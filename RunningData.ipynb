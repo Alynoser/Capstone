{
 "cells": [
  {
   "cell_type": "code",
   "execution_count": 1,
   "metadata": {},
   "outputs": [],
   "source": [
    "import pandas as pd\n",
    "import numpy as np\n",
    "import matplotlib\n",
    "import matplotlib.pyplot as plt\n",
    "import seaborn as sns\n",
    "# %matplotlib inline\n",
    "import sklearn\n",
    "from sklearn import datasets, linear_model, model_selection\n",
    "from sklearn.model_selection import train_test_split\n",
    "from sklearn.tree import DecisionTreeClassifier\n",
    "from sklearn.linear_model import Ridge, Lasso\n",
    "from sklearn.model_selection import cross_val_score\n",
    "from sklearn.model_selection import cross_validate\n",
    "from sklearn.metrics import recall_score\n",
    "import os\n",
    "import time\n",
    "from sklearn.naive_bayes import GaussianNB\n",
    "pd.options.display.max_rows = 10\n",
    "pd.options.display.max_columns = 79"
   ]
  },
  {
   "cell_type": "code",
   "execution_count": 2,
   "metadata": {},
   "outputs": [],
   "source": [
    "# Loading in Excel doc into a Dataframe\n",
    "notebook_path = os.path.abspath(\"RunningData.ipynb\")\n",
    "temp = os.path.abspath(\"Data\")"
   ]
  },
  {
   "cell_type": "code",
   "execution_count": null,
   "metadata": {},
   "outputs": [],
   "source": [
    "ps_lr = pd.read_csv(temp + \"\\\\finalportscanlr.csv\", low_memory = False)\n",
    "ps_bayes = pd.read_csv(temp + \"\\\\final-portscan-bayes.csv\", low_memory = False)\n",
    "\n",
    "ddos_lr = pd.read_csv(temp + \"\\\\finalddoslr.csv\", low_memory = False)\n",
    "ddos_bayes = pd.read_csv(temp + \"\\\\finalddosnaivebayes.csv\", low_memory = False)\n",
    "\n",
    "ps_label = pd.read_csv(temp + \"\\\\PortScanLabel.csv\", low_memory = False)\n",
    "ddos_label = pd.read_csv(temp + \"\\\\DDOSLabel.csv\", low_memory = False)\n",
    "\n",
    "ddos_df = pd.read_csv(temp + \"\\\\Friday-WorkingHours-Afternoon-DDos.pcap_ISCX.csv\", low_memory = False)\n",
    "ps_df = pd.read_csv(temp + \"\\\\Friday-WorkingHours-Afternoon-PortScan.pcap_ISCX.csv\", low_memory = False)"
   ]
  },
  {
   "cell_type": "code",
   "execution_count": null,
   "metadata": {},
   "outputs": [],
   "source": [
    "# Edits the Column Names\n",
    "ddos_df.columns = ddos_df.columns.str.replace(' ', '')\n",
    "ddos_df.columns = ddos_df.columns.str.replace('/s', '_s')\n",
    "\n",
    "ps_df.columns = ps_df.columns.str.replace(' ', '')\n",
    "ps_df.columns = ps_df.columns.str.replace('/s', '_s')"
   ]
  },
  {
   "cell_type": "code",
   "execution_count": null,
   "metadata": {},
   "outputs": [],
   "source": [
    "ddos_df = ddos_df.iloc[:,:-1]\n",
    "\n",
    "ps_df = ps_df.iloc[:,:-1]"
   ]
  },
  {
   "cell_type": "code",
   "execution_count": null,
   "metadata": {},
   "outputs": [],
   "source": [
    "# #Drops any rows with NA\n",
    "ddos_df.dropna(how = 'any', subset = ['DestinationPort', 'FlowDuration', 'TotalFwdPackets',\n",
    "       'TotalBackwardPackets', 'TotalLengthofFwdPackets',\n",
    "       'TotalLengthofBwdPackets', 'FwdPacketLengthMax', 'FwdPacketLengthMin',\n",
    "       'FwdPacketLengthMean', 'FwdPacketLengthStd', 'BwdPacketLengthMax',\n",
    "       'BwdPacketLengthMin', 'BwdPacketLengthMean', 'BwdPacketLengthStd',\n",
    "       'FlowBytes_s', 'FlowPackets_s', 'FlowIATMean', 'FlowIATStd',\n",
    "       'FlowIATMax', 'FlowIATMin', 'FwdIATTotal', 'FwdIATMean', 'FwdIATStd',\n",
    "       'FwdIATMax', 'FwdIATMin', 'BwdIATTotal', 'BwdIATMean', 'BwdIATStd',\n",
    "       'BwdIATMax', 'BwdIATMin', 'FwdPSHFlags', 'BwdPSHFlags', 'FwdURGFlags',\n",
    "       'BwdURGFlags', 'FwdHeaderLength', 'BwdHeaderLength', 'FwdPackets_s',\n",
    "       'BwdPackets_s', 'MinPacketLength', 'MaxPacketLength',\n",
    "       'PacketLengthMean', 'PacketLengthStd', 'PacketLengthVariance',\n",
    "       'FINFlagCount', 'SYNFlagCount', 'RSTFlagCount', 'PSHFlagCount',\n",
    "       'ACKFlagCount', 'URGFlagCount', 'CWEFlagCount', 'ECEFlagCount',\n",
    "       'Down/UpRatio', 'AveragePacketSize', 'AvgFwdSegmentSize',\n",
    "       'AvgBwdSegmentSize', 'FwdHeaderLength.1', 'FwdAvgBytes/Bulk',\n",
    "       'FwdAvgPackets/Bulk', 'FwdAvgBulkRate', 'BwdAvgBytes/Bulk',\n",
    "       'BwdAvgPackets/Bulk', 'BwdAvgBulkRate', 'SubflowFwdPackets',\n",
    "       'SubflowFwdBytes', 'SubflowBwdPackets', 'SubflowBwdBytes',\n",
    "       'Init_Win_bytes_forward', 'Init_Win_bytes_backward', 'act_data_pkt_fwd',\n",
    "       'min_seg_size_forward', 'ActiveMean', 'ActiveStd', 'ActiveMax',\n",
    "       'ActiveMin', 'IdleMean', 'IdleStd', 'IdleMax', 'IdleMin'], inplace = True)"
   ]
  },
  {
   "cell_type": "code",
   "execution_count": null,
   "metadata": {},
   "outputs": [],
   "source": [
    "ps_df.dropna(how = 'any', subset = ['DestinationPort', 'FlowDuration', 'TotalFwdPackets',\n",
    "       'TotalBackwardPackets', 'TotalLengthofFwdPackets',\n",
    "       'TotalLengthofBwdPackets', 'FwdPacketLengthMax', 'FwdPacketLengthMin',\n",
    "       'FwdPacketLengthMean', 'FwdPacketLengthStd', 'BwdPacketLengthMax',\n",
    "       'BwdPacketLengthMin', 'BwdPacketLengthMean', 'BwdPacketLengthStd',\n",
    "       'FlowBytes_s', 'FlowPackets_s', 'FlowIATMean', 'FlowIATStd',\n",
    "       'FlowIATMax', 'FlowIATMin', 'FwdIATTotal', 'FwdIATMean', 'FwdIATStd',\n",
    "       'FwdIATMax', 'FwdIATMin', 'BwdIATTotal', 'BwdIATMean', 'BwdIATStd',\n",
    "       'BwdIATMax', 'BwdIATMin', 'FwdPSHFlags', 'BwdPSHFlags', 'FwdURGFlags',\n",
    "       'BwdURGFlags', 'FwdHeaderLength', 'BwdHeaderLength', 'FwdPackets_s',\n",
    "       'BwdPackets_s', 'MinPacketLength', 'MaxPacketLength',\n",
    "       'PacketLengthMean', 'PacketLengthStd', 'PacketLengthVariance',\n",
    "       'FINFlagCount', 'SYNFlagCount', 'RSTFlagCount', 'PSHFlagCount',\n",
    "       'ACKFlagCount', 'URGFlagCount', 'CWEFlagCount', 'ECEFlagCount',\n",
    "       'Down/UpRatio', 'AveragePacketSize', 'AvgFwdSegmentSize',\n",
    "       'AvgBwdSegmentSize', 'FwdHeaderLength.1', 'FwdAvgBytes/Bulk',\n",
    "       'FwdAvgPackets/Bulk', 'FwdAvgBulkRate', 'BwdAvgBytes/Bulk',\n",
    "       'BwdAvgPackets/Bulk', 'BwdAvgBulkRate', 'SubflowFwdPackets',\n",
    "       'SubflowFwdBytes', 'SubflowBwdPackets', 'SubflowBwdBytes',\n",
    "       'Init_Win_bytes_forward', 'Init_Win_bytes_backward', 'act_data_pkt_fwd',\n",
    "       'min_seg_size_forward', 'ActiveMean', 'ActiveStd', 'ActiveMax',\n",
    "       'ActiveMin', 'IdleMean', 'IdleStd', 'IdleMax', 'IdleMin'], inplace = True)"
   ]
  },
  {
   "cell_type": "code",
   "execution_count": null,
   "metadata": {},
   "outputs": [],
   "source": [
    "# Delete rows that contain infinity from FlowBytes and FlowPackets\n",
    "ddos_df = ddos_df[~ddos_df.FlowBytes_s.str.startswith('Infinity')]\n",
    "ddos_df = ddos_df[~ddos_df.FlowPackets_s.str.startswith('Infinity')]"
   ]
  },
  {
   "cell_type": "code",
   "execution_count": null,
   "metadata": {},
   "outputs": [],
   "source": [
    "ps_df = ps_df[~ps_df.FlowBytes_s.str.startswith('Infinity')]\n",
    "ps_df = ps_df[~ps_df.FlowPackets_s.str.startswith('Infinity')]"
   ]
  },
  {
   "cell_type": "code",
   "execution_count": null,
   "metadata": {},
   "outputs": [],
   "source": [
    "# Converts FlowBytes_s and FlowPackets_s to numeric columns\n",
    "ddos_df[['FlowBytes_s']] = ddos_df[['FlowBytes_s']].apply(pd.to_numeric)\n",
    "ddos_df[['FlowPackets_s']] = ddos_df[['FlowPackets_s']].apply(pd.to_numeric)"
   ]
  },
  {
   "cell_type": "code",
   "execution_count": null,
   "metadata": {},
   "outputs": [],
   "source": [
    "ps_df[['FlowBytes_s']] = ps_df[['FlowBytes_s']].apply(pd.to_numeric)\n",
    "ps_df[['FlowPackets_s']] = ps_df[['FlowPackets_s']].apply(pd.to_numeric)"
   ]
  },
  {
   "cell_type": "code",
   "execution_count": null,
   "metadata": {},
   "outputs": [],
   "source": [
    "xtrainDF, xtestDF, ytrainDF, ytestDF = train_test_split(ps_lr, ps_label, test_size=0.4, random_state=10)\n",
    "reg = linear_model.LinearRegression()\n",
    "fit = reg.fit(xtrainDF, ytrainDF)\n",
    "prediction_of_test = fit.predict(ps_df)\n",
    "print(np.sqrt(sklearn.metrics.mean_squared_error(ps_label, prediction_of_test)))"
   ]
  },
  {
   "cell_type": "code",
   "execution_count": null,
   "metadata": {},
   "outputs": [],
   "source": [
    "xtrainDF, xtestDF, ytrainDF, ytestDF = train_test_split(ddos_lr, ddos_label, test_size=0.4, random_state=10)\n",
    "reg = linear_model.LinearRegression()\n",
    "fit = reg.fit(xtrainDF, ytrainDF)\n",
    "prediction_of_test = fit.predict(ddos_df)\n",
    "print(np.sqrt(sklearn.metrics.mean_squared_error(ddos_label, prediction_of_test)))"
   ]
  },
  {
   "cell_type": "code",
   "execution_count": null,
   "metadata": {},
   "outputs": [],
   "source": [
    "xtrainDF, xtestDF, ytrainDF, ytestDF = train_test_split(ps_bayes, ps_label, test_size=0.4, random_state=10)\n",
    "reg = GaussianNB()\n",
    "fit = reg.fit(xtrainDF, ytrainDF)\n",
    "prediction_of_test = fit.predict(ps_df)\n",
    "print(np.sqrt(sklearn.metrics.mean_squared_error(ps_label, prediction_of_test)))"
   ]
  },
  {
   "cell_type": "code",
   "execution_count": null,
   "metadata": {},
   "outputs": [],
   "source": [
    "xtrainDF, xtestDF, ytrainDF, ytestDF = train_test_split(ddos_bayes, ddos_label, test_size=0.4, random_state=10)\n",
    "reg = GaussianNB()\n",
    "fit = reg.fit(xtrainDF, ytrainDF)\n",
    "prediction_of_test = fit.predict(ddos_df)\n",
    "print(np.sqrt(sklearn.metrics.mean_squared_error(ddos_label, prediction_of_test)))"
   ]
  },
  {
   "cell_type": "code",
   "execution_count": null,
   "metadata": {},
   "outputs": [],
   "source": []
  }
 ],
 "metadata": {
  "kernelspec": {
   "display_name": "Python 3",
   "language": "python",
   "name": "python3"
  },
  "language_info": {
   "codemirror_mode": {
    "name": "ipython",
    "version": 3
   },
   "file_extension": ".py",
   "mimetype": "text/x-python",
   "name": "python",
   "nbconvert_exporter": "python",
   "pygments_lexer": "ipython3",
   "version": "3.7.4"
  }
 },
 "nbformat": 4,
 "nbformat_minor": 2
}
