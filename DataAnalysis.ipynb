{
 "cells": [
  {
   "cell_type": "code",
   "execution_count": 28,
   "metadata": {},
   "outputs": [],
   "source": [
    "# -------------------------------------------------------- Imports\n",
    "import pandas as pd\n",
    "import numpy as np\n",
    "import os\n",
    "import matplotlib.pyplot as plt\n",
    "\n",
    "\n",
    "pd.options.display.max_rows = 1008\n",
    "pd.options.display.max_columns = 100"
   ]
  },
  {
   "cell_type": "code",
   "execution_count": 2,
   "metadata": {},
   "outputs": [],
   "source": [
    "# ----------------------------------------------------- SEARCH TERMS ------------------------------------------------\n",
    "# Search for items in quotes for quick searching - ctrl+f\n",
    "# For Final Models section - \"Final model\"\n",
    "# For Port Scan Linear Regression - \"ps_lr\"\n",
    "# For Port Scan Naive Bayes - \"ps_bayes\"\n",
    "# For DDoS Linear Regression - \"ddos_lr\"\n",
    "# For DDoS Naive Bayes - \"ddos_bayes\"\n",
    "# -------------------------------------------------------------------------------------------------------------------"
   ]
  },
  {
   "cell_type": "code",
   "execution_count": 3,
   "metadata": {
    "scrolled": false
   },
   "outputs": [],
   "source": [
    "# -------------------------------------------------------- Create Notebook, Path, and inital DFs\n",
    "notebook_path = os.path.abspath(\"DataAnalysis.ipynb\")\n",
    "temp = os.path.abspath(\"Data\")\n",
    "\n",
    "# Load in all of the relevant work sheets\n",
    "# We chose not to load in the worksheets that had attacks that we did not initially \n",
    "#    plan on modeling to save space and computation time\n",
    "\n",
    "# df1 = pd.read_csv(temp + \"\\\\Friday-WorkingHours-Afternoon-DDos.pcap_ISCX.csv\", low_memory = False)\n",
    "# df2 = pd.read_csv(temp + \"\\\\Friday-WorkingHours-Afternoon-PortScan.pcap_ISCX.csv\", low_memory = False)\n",
    "# df3 = pd.read_csv(temp + \"\\\\Tuesday-WorkingHours.pcap_ISCX.csv\", low_memory = False)\n",
    "# df4 = pd.read_csv(temp + \"\\\\Wednesday-workingHours.pcap_ISCX.csv\", low_memory = False)"
   ]
  },
  {
   "cell_type": "code",
   "execution_count": 4,
   "metadata": {},
   "outputs": [],
   "source": [
    "# -------------------------------------------------------- Remove/Replace irritating values in column names\n",
    "\n",
    "# df1.columns = df1.columns.str.replace(' ', '')\n",
    "# df1.columns = df1.columns.str.replace('/s', '_s')\n",
    "\n",
    "# df2.columns = df2.columns.str.replace(' ', '')\n",
    "# df2.columns = df2.columns.str.replace('/s', '_s')\n",
    "\n",
    "# df3.columns = df3.columns.str.replace(' ', '')\n",
    "# df3.columns = df3.columns.str.replace('/s', '_s')\n",
    "\n",
    "# df4.columns = df4.columns.str.replace(' ', '')\n",
    "# df4.columns = df4.columns.str.replace('/s', '_s')"
   ]
  },
  {
   "cell_type": "code",
   "execution_count": 5,
   "metadata": {},
   "outputs": [],
   "source": [
    "# -------------------------------------------------------- Combine dataframes together\n",
    "# full_df = df1.append(df2)\n",
    "# full_df = full_df.append(df3)\n",
    "# full_df = full_df.append(df4)"
   ]
  },
  {
   "cell_type": "code",
   "execution_count": 6,
   "metadata": {},
   "outputs": [],
   "source": [
    "# -------------------------------------------------------- NaN Value Analysis\n",
    "# Sums the NaN values per column\n",
    "# df1.isna().sum()\n",
    "\n",
    "# Prints the rows that are NaN values\n",
    "# df1[df1.isna().any(axis=1)]\n",
    "\n",
    "\n",
    "# NULL VALUES IN COLUMN \"FlowBytes\":\n",
    "#         df1 = 1 / , df2 = 15 / 286467 , df3 = 201 / 445909 , df4 = 1008 / 692703\n",
    "#         TOTAL NaN ROWS: 1228"
   ]
  },
  {
   "cell_type": "code",
   "execution_count": 7,
   "metadata": {},
   "outputs": [],
   "source": [
    "# -------------------------------------------------------- Label Counts\n",
    "\n",
    "# print(\"DF1\")\n",
    "# print(df1.Label.value_counts())\n",
    "\n",
    "# print(\"\\nDF2\")\n",
    "# print(df2.Label.value_counts())\n",
    "\n",
    "# print(\"\\nDF3\")\n",
    "# print(df3.Label.value_counts())\n",
    "\n",
    "# print(\"\\nDF4\")\n",
    "# print(df4.Label.value_counts())"
   ]
  },
  {
   "cell_type": "code",
   "execution_count": 8,
   "metadata": {},
   "outputs": [],
   "source": [
    "# -------------------------------------------------------- Drop attack types we are not concerened with\n",
    "\n",
    "# full_df = full_df[full_df.Label != 'Heartbleed']\n",
    "\n",
    "\n",
    "#  full_df.dropna(how = 'any', subset=['DestinationPort', 'FlowDuration', 'TotalFwdPackets',\n",
    "#        'TotalBackwardPackets', 'TotalLengthofFwdPackets',\n",
    "#        'TotalLengthofBwdPackets', 'FwdPacketLengthMax', 'FwdPacketLengthMin',\n",
    "#        'FwdPacketLengthMean', 'FwdPacketLengthStd', 'BwdPacketLengthMax',\n",
    "#        'BwdPacketLengthMin', 'BwdPacketLengthMean', 'BwdPacketLengthStd',\n",
    "#        'FlowBytes', 'FlowPackets', 'FlowIATMean', 'FlowIATStd', 'FlowIATMax',\n",
    "#        'FlowIATMin', 'FwdIATTotal', 'FwdIATMean', 'FwdIATStd', 'FwdIATMax',\n",
    "#        'FwdIATMin', 'BwdIATTotal', 'BwdIATMean', 'BwdIATStd', 'BwdIATMax',\n",
    "#        'BwdIATMin', 'FwdPSHFlags', 'BwdPSHFlags', 'FwdURGFlags', 'BwdURGFlags',\n",
    "#        'FwdHeaderLength', 'BwdHeaderLength', 'FwdPackets', 'BwdPackets',\n",
    "#        'MinPacketLength', 'MaxPacketLength', 'PacketLengthMean',\n",
    "#        'PacketLengthStd', 'PacketLengthVariance', 'FINFlagCount',\n",
    "#        'SYNFlagCount', 'RSTFlagCount', 'PSHFlagCount', 'ACKFlagCount',\n",
    "#        'URGFlagCount', 'CWEFlagCount', 'ECEFlagCount', 'Down/UpRatio',\n",
    "#        'AveragePacketSize', 'AvgFwdSegmentSize', 'AvgBwdSegmentSize',\n",
    "#        'FwdHeaderLength.1', 'FwdAvgBytes/Bulk', 'FwdAvgPackets/Bulk',\n",
    "#        'FwdAvgBulkRate', 'BwdAvgBytes/Bulk', 'BwdAvgPackets/Bulk',\n",
    "#        'BwdAvgBulkRate', 'SubflowFwdPackets', 'SubflowFwdBytes',\n",
    "#        'SubflowBwdPackets', 'SubflowBwdBytes', 'Init_Win_bytes_forward',\n",
    "#        'Init_Win_bytes_backward', 'act_data_pkt_fwd', 'min_seg_size_forward',\n",
    "#        'ActiveMean', 'ActiveStd', 'ActiveMax', 'ActiveMin', 'IdleMean',\n",
    "#        'IdleStd', 'IdleMax', 'IdleMin', 'Label'], inplace = True)\n",
    "\n",
    "# full_df"
   ]
  },
  {
   "cell_type": "code",
   "execution_count": 9,
   "metadata": {},
   "outputs": [],
   "source": [
    "# full_df.Label.value_counts()"
   ]
  },
  {
   "cell_type": "code",
   "execution_count": 10,
   "metadata": {},
   "outputs": [],
   "source": [
    "# -------------------------------------------------------- Move 'Label' to the front of the columns list in the combined \n",
    "#                                                             packet\n",
    "\n",
    "# full_df = full_df[['Label', 'DestinationPort', 'FlowDuration', 'TotalFwdPackets',\n",
    "#        'TotalBackwardPackets', 'TotalLengthofFwdPackets',\n",
    "#        'TotalLengthofBwdPackets', 'FwdPacketLengthMax', 'FwdPacketLengthMin',\n",
    "#        'FwdPacketLengthMean', 'FwdPacketLengthStd', 'BwdPacketLengthMax',\n",
    "#        'BwdPacketLengthMin', 'BwdPacketLengthMean', 'BwdPacketLengthStd',\n",
    "#        'FlowBytes_s', 'FlowPackets_s', 'FlowIATMean', 'FlowIATStd',\n",
    "#        'FlowIATMax', 'FlowIATMin', 'FwdIATTotal', 'FwdIATMean', 'FwdIATStd',\n",
    "#        'FwdIATMax', 'FwdIATMin', 'BwdIATTotal', 'BwdIATMean', 'BwdIATStd',\n",
    "#        'BwdIATMax', 'BwdIATMin', 'FwdPSHFlags', 'BwdPSHFlags', 'FwdURGFlags',\n",
    "#        'BwdURGFlags', 'FwdHeaderLength', 'BwdHeaderLength', 'FwdPackets_s',\n",
    "#        'BwdPackets_s', 'MinPacketLength', 'MaxPacketLength',\n",
    "#        'PacketLengthMean', 'PacketLengthStd', 'PacketLengthVariance',\n",
    "#        'FINFlagCount', 'SYNFlagCount', 'RSTFlagCount', 'PSHFlagCount',\n",
    "#        'ACKFlagCount', 'URGFlagCount', 'CWEFlagCount', 'ECEFlagCount',\n",
    "#        'Down/UpRatio', 'AveragePacketSize', 'AvgFwdSegmentSize',\n",
    "#        'AvgBwdSegmentSize', 'FwdHeaderLength.1', 'FwdAvgBytes/Bulk',\n",
    "#        'FwdAvgPackets/Bulk', 'FwdAvgBulkRate', 'BwdAvgBytes/Bulk',\n",
    "#        'BwdAvgPackets/Bulk', 'BwdAvgBulkRate', 'SubflowFwdPackets',\n",
    "#        'SubflowFwdBytes', 'SubflowBwdPackets', 'SubflowBwdBytes',\n",
    "#        'Init_Win_bytes_forward', 'Init_Win_bytes_backward', 'act_data_pkt_fwd',\n",
    "#        'min_seg_size_forward', 'ActiveMean', 'ActiveStd', 'ActiveMax',\n",
    "#        'ActiveMin', 'IdleMean', 'IdleStd', 'IdleMax', 'IdleMin']]"
   ]
  },
  {
   "cell_type": "code",
   "execution_count": 11,
   "metadata": {},
   "outputs": [],
   "source": [
    "# ben = full_df[full_df.Label == 'BENIGN']\n",
    "# dos_h = full_df[full_df.Label == 'DoS Hulk']\n",
    "# p_scan = full_df[full_df.Label == 'PortScan']\n",
    "# ddos = full_df[full_df.Label == 'DDoS']\n",
    "# dos_ge = full_df[full_df.Label == 'DoS GoldenEye']\n",
    "# ftp_pat = full_df[full_df.Label == 'FTP-Patator']\n",
    "# ssh_pat = full_df[full_df.Label == 'SSH-Patator']\n",
    "# dos_slowloris = full_df[full_df.Label == 'DoS slowloris']\n",
    "# dos_slowhttp = full_df[full_df.Label == 'DoS Slowhttptest']"
   ]
  },
  {
   "cell_type": "code",
   "execution_count": 12,
   "metadata": {},
   "outputs": [],
   "source": [
    "# --------------------------------------------------------------SCATTER PLOTS\n",
    "# import matplotlib.pyplot as plt\n",
    "\n",
    "# olist = list(ps_lr.columns) # original list\n",
    "# yvlist = list(['Label']) # y variable list\n",
    "\n",
    "# # make a new list of only the values I want to compare\n",
    "# xlist = [x for x in olist if x not in yvlist]\n",
    "\n",
    "# fig = plt.figure(figsize = (20, 25))\n",
    "# plotNum = 1\n",
    "# for key in xlist:\n",
    "#     ax = plt.subplot(6, 3, plotNum)\n",
    "#     ax.scatter(x = ps_lr[key], y = ps_lr['Label'])\n",
    "#     ax.set_xlabel(key)\n",
    "#     ax.set_ylabel('Label')\n",
    "#     plotNum = plotNum + 1"
   ]
  },
  {
   "cell_type": "code",
   "execution_count": 13,
   "metadata": {},
   "outputs": [],
   "source": [
    "# --------------------------------------------------------------- CORRELATION MAP\n",
    "\n",
    "# corr = ben.corr()\n",
    "# plt.figure(figsize=(79, 79))\n",
    "# heatMap = sns.heatmap(\n",
    "#     corr,\n",
    "#     vmin = -1, vmax = 1, center = 0,\n",
    "#     annot=True,\n",
    "#     cmap=sns.diverging_palette(20, 220, n=200),\n",
    "#     square=True\n",
    "# )"
   ]
  },
  {
   "cell_type": "code",
   "execution_count": 14,
   "metadata": {},
   "outputs": [],
   "source": [
    "# ben.dtypes"
   ]
  },
  {
   "cell_type": "code",
   "execution_count": 15,
   "metadata": {},
   "outputs": [],
   "source": [
    "# ------------------------------------------ Before Training\n",
    "ps = pd.read_csv(temp + \"\\\\Friday-WorkingHours-Afternoon-PortScan.pcap_ISCX.csv\", low_memory = False)\n",
    "ddos = pd.read_csv(temp + \"\\\\Friday-WorkingHours-Afternoon-DDos.pcap_ISCX.csv\", low_memory = False)\n",
    "\n",
    "ps.columns = ps.columns.str.replace(' ', '')\n",
    "ps.columns = ps.columns.str.replace('/s', '_s')\n",
    "\n",
    "ddos.columns = ddos.columns.str.replace(' ', '')\n",
    "ddos.columns = ddos.columns.str.replace('/s', '_s')\n",
    "\n",
    "ps.Label = ps.Label.replace('BENIGN', 0)\n",
    "ps.Label = ps.Label.replace('PortScan', 1)\n",
    "\n",
    "ddos.Label = ddos.Label.replace('BENIGN', 0)\n",
    "ddos.Label = ddos.Label.replace('DDoS', 1)\n",
    "\n",
    "ps = ps[['Label', 'DestinationPort', 'FlowDuration', 'TotalFwdPackets',\n",
    "       'TotalBackwardPackets', 'TotalLengthofFwdPackets',\n",
    "       'TotalLengthofBwdPackets', 'FwdPacketLengthMax', 'FwdPacketLengthMin',\n",
    "       'FwdPacketLengthMean', 'FwdPacketLengthStd', 'BwdPacketLengthMax',\n",
    "       'BwdPacketLengthMin', 'BwdPacketLengthMean', 'BwdPacketLengthStd',\n",
    "       'FlowBytes_s', 'FlowPackets_s', 'FlowIATMean', 'FlowIATStd',\n",
    "       'FlowIATMax', 'FlowIATMin', 'FwdIATTotal', 'FwdIATMean', 'FwdIATStd',\n",
    "       'FwdIATMax', 'FwdIATMin', 'BwdIATTotal', 'BwdIATMean', 'BwdIATStd',\n",
    "       'BwdIATMax', 'BwdIATMin', 'FwdPSHFlags', 'BwdPSHFlags', 'FwdURGFlags',\n",
    "       'BwdURGFlags', 'FwdHeaderLength', 'BwdHeaderLength', 'FwdPackets_s',\n",
    "       'BwdPackets_s', 'MinPacketLength', 'MaxPacketLength',\n",
    "       'PacketLengthMean', 'PacketLengthStd', 'PacketLengthVariance',\n",
    "       'FINFlagCount', 'SYNFlagCount', 'RSTFlagCount', 'PSHFlagCount',\n",
    "       'ACKFlagCount', 'URGFlagCount', 'CWEFlagCount', 'ECEFlagCount',\n",
    "       'Down/UpRatio', 'AveragePacketSize', 'AvgFwdSegmentSize',\n",
    "       'AvgBwdSegmentSize', 'FwdHeaderLength.1', 'FwdAvgBytes/Bulk',\n",
    "       'FwdAvgPackets/Bulk', 'FwdAvgBulkRate', 'BwdAvgBytes/Bulk',\n",
    "       'BwdAvgPackets/Bulk', 'BwdAvgBulkRate', 'SubflowFwdPackets',\n",
    "       'SubflowFwdBytes', 'SubflowBwdPackets', 'SubflowBwdBytes',\n",
    "       'Init_Win_bytes_forward', 'Init_Win_bytes_backward', 'act_data_pkt_fwd',\n",
    "       'min_seg_size_forward', 'ActiveMean', 'ActiveStd', 'ActiveMax',\n",
    "       'ActiveMin', 'IdleMean', 'IdleStd', 'IdleMax', 'IdleMin']]\n",
    "\n",
    "ddos = ddos[['Label', 'DestinationPort', 'FlowDuration', 'TotalFwdPackets',\n",
    "       'TotalBackwardPackets', 'TotalLengthofFwdPackets',\n",
    "       'TotalLengthofBwdPackets', 'FwdPacketLengthMax', 'FwdPacketLengthMin',\n",
    "       'FwdPacketLengthMean', 'FwdPacketLengthStd', 'BwdPacketLengthMax',\n",
    "       'BwdPacketLengthMin', 'BwdPacketLengthMean', 'BwdPacketLengthStd',\n",
    "       'FlowBytes_s', 'FlowPackets_s', 'FlowIATMean', 'FlowIATStd',\n",
    "       'FlowIATMax', 'FlowIATMin', 'FwdIATTotal', 'FwdIATMean', 'FwdIATStd',\n",
    "       'FwdIATMax', 'FwdIATMin', 'BwdIATTotal', 'BwdIATMean', 'BwdIATStd',\n",
    "       'BwdIATMax', 'BwdIATMin', 'FwdPSHFlags', 'BwdPSHFlags', 'FwdURGFlags',\n",
    "       'BwdURGFlags', 'FwdHeaderLength', 'BwdHeaderLength', 'FwdPackets_s',\n",
    "       'BwdPackets_s', 'MinPacketLength', 'MaxPacketLength',\n",
    "       'PacketLengthMean', 'PacketLengthStd', 'PacketLengthVariance',\n",
    "       'FINFlagCount', 'SYNFlagCount', 'RSTFlagCount', 'PSHFlagCount',\n",
    "       'ACKFlagCount', 'URGFlagCount', 'CWEFlagCount', 'ECEFlagCount',\n",
    "       'Down/UpRatio', 'AveragePacketSize', 'AvgFwdSegmentSize',\n",
    "       'AvgBwdSegmentSize', 'FwdHeaderLength.1', 'FwdAvgBytes/Bulk',\n",
    "       'FwdAvgPackets/Bulk', 'FwdAvgBulkRate', 'BwdAvgBytes/Bulk',\n",
    "       'BwdAvgPackets/Bulk', 'BwdAvgBulkRate', 'SubflowFwdPackets',\n",
    "       'SubflowFwdBytes', 'SubflowBwdPackets', 'SubflowBwdBytes',\n",
    "       'Init_Win_bytes_forward', 'Init_Win_bytes_backward', 'act_data_pkt_fwd',\n",
    "       'min_seg_size_forward', 'ActiveMean', 'ActiveStd', 'ActiveMax',\n",
    "       'ActiveMin', 'IdleMean', 'IdleStd', 'IdleMax', 'IdleMin']]"
   ]
  },
  {
   "cell_type": "code",
   "execution_count": 16,
   "metadata": {},
   "outputs": [],
   "source": [
    "# ------------------------------------------ DFs for the final models\n",
    "\n",
    "ps_lr = pd.read_csv(temp + \"\\\\finalportscanlr.csv\", low_memory = False)\n",
    "ps_bayes = pd.read_csv(temp + \"\\\\final-portscan-bayes.csv\", low_memory = False)\n",
    "\n",
    "ddos_lr = pd.read_csv(temp + \"\\\\finalddoslr.csv\", low_memory = False)\n",
    "ddos_bayes = pd.read_csv(temp + \"\\\\finalddosnaivebayes.csv\", low_memory = False)\n",
    "\n",
    "ps_label = pd.read_csv(temp + \"\\\\PortScanLabel.csv\", low_memory = False)\n",
    "ddos_label = pd.read_csv(temp + \"\\\\DDOSLabel.csv\", low_memory = False)"
   ]
  },
  {
   "cell_type": "code",
   "execution_count": 17,
   "metadata": {},
   "outputs": [],
   "source": [
    "ps_label = ps_label.replace(0, False)\n",
    "ps_label = ps_label.replace(1, True)\n",
    "\n",
    "ddos_label = ddos_label.replace(0, False)\n",
    "ddos_label = ddos_label.replace(1, True)\n",
    "\n",
    "ps_lr['Label'] = ps_label\n",
    "ps_bayes['Label'] = ps_label\n",
    "\n",
    "ddos_lr['Label'] = ddos_label\n",
    "ddos_bayes['Label'] = ddos_label"
   ]
  },
  {
   "cell_type": "code",
   "execution_count": 18,
   "metadata": {},
   "outputs": [
    {
     "data": {
      "text/plain": [
       "Index(['TotalBackwardPackets', 'FwdPacketLengthMax', 'FwdPacketLengthMin',\n",
       "       'FwdPacketLengthMean', 'FwdPacketLengthStd', 'BwdPacketLengthMax',\n",
       "       'BwdPacketLengthMin', 'BwdPacketLengthMean', 'BwdPacketLengthStd',\n",
       "       'FlowIATMean', 'FlowIATStd', 'FlowIATMax', 'FwdIATTotal', 'FwdIATMean',\n",
       "       'FwdIATStd', 'FwdIATMax', 'BwdIATMax', 'FwdPSHFlags', 'BwdPSHFlags',\n",
       "       'FwdURGFlags', 'BwdURGFlags', 'FwdHeaderLength', 'BwdHeaderLength',\n",
       "       'BwdPackets_s', 'MinPacketLength', 'MaxPacketLength',\n",
       "       'PacketLengthMean', 'PacketLengthStd', 'PacketLengthVariance',\n",
       "       'FINFlagCount', 'SYNFlagCount', 'RSTFlagCount', 'PSHFlagCount',\n",
       "       'ACKFlagCount', 'URGFlagCount', 'CWEFlagCount', 'ECEFlagCount',\n",
       "       'Down/UpRatio', 'AveragePacketSize', 'AvgFwdSegmentSize',\n",
       "       'AvgBwdSegmentSize', 'FwdHeaderLength.1', 'FwdAvgBytes/Bulk',\n",
       "       'FwdAvgPackets/Bulk', 'FwdAvgBulkRate', 'BwdAvgBytes/Bulk',\n",
       "       'BwdAvgPackets/Bulk', 'BwdAvgBulkRate', 'SubflowFwdPackets',\n",
       "       'SubflowBwdPackets', 'Init_Win_bytes_forward', 'act_data_pkt_fwd',\n",
       "       'min_seg_size_forward', 'ActiveMean', 'ActiveMax', 'ActiveMin',\n",
       "       'IdleMean', 'IdleStd', 'IdleMax', 'IdleMin', 'Label'],\n",
       "      dtype='object')"
      ]
     },
     "execution_count": 18,
     "metadata": {},
     "output_type": "execute_result"
    }
   ],
   "source": [
    "ddos_bayes.columns"
   ]
  },
  {
   "cell_type": "code",
   "execution_count": 19,
   "metadata": {},
   "outputs": [],
   "source": [
    "# ps_lr = ps_lr[~ps_lr.FlowBytes_s.str.startswith('Infinity')]\n",
    "# ps_lr = ps_lr[~ps_lr.FlowPackets_s.str.startswith('Infinity')]\n",
    "\n",
    "# ps_lr[['FlowBytes_s']] = ps_lr[['FlowBytes_s']].apply(pd.to_numeric)\n",
    "# ps_lr[['FlowPackets_s']] = ps_lr[['FlowPackets_s']].apply(pd.to_numeric)\n",
    "\n",
    "# ddos_lr = ddos_lr[~ddos_lr.FlowBytes_s.str.startswith('Infinity')]\n",
    "# ddos_lr = ddos_lr[~ddos_lr.FlowPackets_s.str.startswith('Infinity')]\n",
    "\n",
    "# ddos_lr[['FlowBytes_s']] = ddos_lr[['FlowBytes_s']].apply(pd.to_numeric)\n",
    "# ddos_lr[['FlowPackets_s']] = ddos_lr[['FlowPackets_s']].apply(pd.to_numeric)"
   ]
  },
  {
   "cell_type": "code",
   "execution_count": 20,
   "metadata": {},
   "outputs": [],
   "source": [
    "# --------------------------------------------------------------------------------------- Compare NB and LR\n",
    "import sklearn\n",
    "from sklearn.model_selection import train_test_split\n",
    "from sklearn import linear_model\n",
    "from sklearn.naive_bayes import GaussianNB\n",
    "\n",
    "def fit_model_lr(df):\n",
    "    Y = df.Label\n",
    "    X = df.iloc[:,:-1]\n",
    "    xtrainDF, xtestDF, ytrainDF, ytestDF = train_test_split(X, Y, test_size = 0.4, random_state = 10)\n",
    "    lreg = linear_model.LinearRegression()\n",
    "    lfit = lreg.fit(xtrainDF, ytrainDF)\n",
    "    prediction_of_test = lfit.predict(xtestDF)\n",
    "    return (np.sqrt(sklearn.metrics.mean_squared_error(ytestDF, prediction_of_test))), prediction_of_test, ytestDF\n",
    "\n",
    "def fit_model_bayes(df):\n",
    "    Y = df.Label\n",
    "    X = df.iloc[:,:-1]\n",
    "    xtrainDF, xtestDF, ytrainDF, ytestDF = train_test_split(X, Y, test_size = 0.4, random_state = 10)\n",
    "    lreg = GaussianNB()\n",
    "    lfit = lreg.fit(xtrainDF, ytrainDF)\n",
    "    prediction_of_test = lfit.predict(xtestDF)\n",
    "    ytestDF = ytestDF.replace(False, 0)\n",
    "    ytestDF = ytestDF.replace(True, 1)\n",
    "    return (np.sqrt(sklearn.metrics.mean_squared_error(ytestDF, prediction_of_test))), prediction_of_test, ytestDF\n",
    "\n",
    "# x_x_mse is the MSE of the test data\n",
    "# x_x_pred is the prediction on test data\n",
    "# x_x_ytest is the Labels column of the test data. 1 = Attack type, 0 = Benign\n",
    "ps_lr_mse, ps_lr_pred, ps_lr_ytest = fit_model_lr(ps_lr)\n",
    "ps_bayes_mse, ps_bayes_pred, ps_bayes_ytest = fit_model_bayes(ps_bayes)\n",
    "\n",
    "ddos_lr_mse, ddos_lr_pred, ddos_lr_ytest = fit_model_lr(ddos_lr)\n",
    "ddos_bayes_mse, ddos_bayes_pred, ddos_bayes_ytest = fit_model_bayes(ddos_bayes)"
   ]
  },
  {
   "cell_type": "code",
   "execution_count": 40,
   "metadata": {},
   "outputs": [],
   "source": [
    "attack = 0\n",
    "benign = 0\n",
    "for i in ddos_lr_ytest:\n",
    "    if i >= .5:\n",
    "        attack = attack + 1\n",
    "    else:\n",
    "        benign = benign + 1"
   ]
  },
  {
   "cell_type": "code",
   "execution_count": 41,
   "metadata": {},
   "outputs": [
    {
     "name": "stdout",
     "output_type": "stream",
     "text": [
      "39069\n",
      "51216\n"
     ]
    }
   ],
   "source": [
    "print(benign)\n",
    "print(attack)"
   ]
  },
  {
   "cell_type": "code",
   "execution_count": 43,
   "metadata": {},
   "outputs": [
    {
     "data": {
      "text/plain": [
       "Text(0.5, 1.0, 'LR DDoS Actual')"
      ]
     },
     "execution_count": 43,
     "metadata": {},
     "output_type": "execute_result"
    },
    {
     "data": {
      "image/png": "[encoded data removed]",
      "text/plain": [
       "<Figure size 432x288 with 1 Axes>"
      ]
     },
     "metadata": {},
     "output_type": "display_data"
    }
   ],
   "source": [
    "labels = ['Port Scan', 'Bengin']\n",
    "sizes = [attack, benign]\n",
    "\n",
    "fig, ax = plt.subplots()\n",
    "ax.pie(sizes, labels=labels, autopct = '%1.1f%%')\n",
    "ax.axis('equal')\n",
    "ax.set_title('LR DDoS Actual')"
   ]
  },
  {
   "cell_type": "code",
   "execution_count": null,
   "metadata": {},
   "outputs": [],
   "source": [
    "print(\"PS - LR \", ps_lr_mse, \" | NB \", ps_bayes_mse)\n",
    "print(\"DDoS - LR \", ddos_lr_mse, \" | NB \", ddos_bayes_mse)\n",
    "\n",
    "print(\"PS - LR \", ps_lr_pred, \" | NB \", ps_bayes_pred)\n",
    "print(\"DDoS - LR \", ddos_lr_pred, \" | NB \", ddos_bayes_pred)\n",
    "\n",
    "print(\"PS - LR \", ps_lr_ytest.array, \" | NB \", ps_bayes_ytest.array)\n",
    "print(\"DDoS - LR \", ddos_lr_ytest.array, \" | NB \", ddos_bayes_ytest.array)\n",
    "# attc_correct = 0\n",
    "# attc_wrong = 0\n",
    "# ben_correct = 0\n",
    "# ben_wrong = 0\n",
    "# lolol = 0\n",
    "\n",
    "# for i, x in ps_lr_pred and ps_lr_ytest.array:\n",
    "#     if x == i:\n",
    "#         if x == 0:\n",
    "#             ben_correct = ben_correct + 1\n",
    "#         elif x == 1:\n",
    "#             attc_correct = attc_correct + 1\n",
    "#     elif x != i:\n",
    "#         if x == 0:\n",
    "#             ben_wrong = ben_wrong + 1\n",
    "#         elif x == 1:\n",
    "#             attc_wrong = attc_wrong + 1\n",
    "#     else:\n",
    "#         lolol = 99\n",
    "    \n",
    "# print(\"Correct Attack:\", attc_correct)\n",
    "# print(\"Correct Benign:\", ben_correct)\n",
    "# print(\"Wrong Attack:\", attc_wrong)\n",
    "# print(\"Wrong Benign:\", ben_wrong)\n",
    "# print(\"RIP WE FUKED UP:\", lolol)\n",
    "# x = 0\n",
    "# y = 0\n",
    "\n",
    "# for i in ps_lr_pred:\n",
    "#     if i == 1:\n",
    "#         x = x + 1\n",
    "#     elif i :\n",
    "#         y = y + 1\n",
    "\n",
    "# print(x, y)\n",
    "\n",
    "# a = 0 \n",
    "# b = 0\n",
    "# for i in ps_lr_ytest:\n",
    "#     if i == 1:\n",
    "#         a = a + 1\n",
    "#     elif i == 0:\n",
    "#         b = b + 1\n",
    "\n",
    "# print(a, b)"
   ]
  },
  {
   "cell_type": "code",
   "execution_count": null,
   "metadata": {},
   "outputs": [],
   "source": [
    "# -------------------------------------------------------------------------------------- Put label at begining\n",
    "ps_lr = ps_lr[['Label', 'DestinationPort', 'FlowDuration', 'TotalBackwardPackets',\n",
    "       'TotalLengthofFwdPackets', 'TotalLengthofBwdPackets',\n",
    "       'FwdPacketLengthMax', 'FwdPacketLengthMin', 'FwdPacketLengthMean',\n",
    "       'FwdPacketLengthStd', 'BwdPacketLengthMin', 'BwdPacketLengthStd',\n",
    "       'FlowBytes_s', 'FlowPackets_s', 'FlowIATMean', 'FlowIATStd',\n",
    "       'FlowIATMax', 'FlowIATMin', 'FwdIATTotal', 'FwdIATMean', 'FwdIATStd',\n",
    "       'FwdIATMax', 'FwdIATMin', 'BwdIATTotal', 'BwdIATMean', 'BwdIATStd',\n",
    "       'BwdIATMax', 'BwdIATMin', 'BwdPSHFlags', 'FwdURGFlags', 'BwdURGFlags',\n",
    "       'BwdHeaderLength', 'FwdPackets_s', 'MinPacketLength', 'MaxPacketLength',\n",
    "       'PacketLengthStd', 'PacketLengthVariance', 'FINFlagCount',\n",
    "       'SYNFlagCount', 'PSHFlagCount', 'ACKFlagCount', 'URGFlagCount',\n",
    "       'CWEFlagCount', 'Down/UpRatio', 'AveragePacketSize',\n",
    "       'AvgFwdSegmentSize', 'FwdHeaderLength.1', 'FwdAvgBytes/Bulk',\n",
    "       'FwdAvgPackets/Bulk', 'FwdAvgBulkRate', 'BwdAvgBytes/Bulk',\n",
    "       'BwdAvgPackets/Bulk', 'BwdAvgBulkRate', 'SubflowFwdPackets',\n",
    "       'SubflowFwdBytes', 'SubflowBwdPackets', 'SubflowBwdBytes',\n",
    "       'Init_Win_bytes_forward', 'Init_Win_bytes_backward', 'act_data_pkt_fwd',\n",
    "       'min_seg_size_forward', 'ActiveMean', 'ActiveMin', 'IdleMean',\n",
    "       'IdleStd', 'IdleMax', 'IdleMin']]\n",
    "\n",
    "ps_bayes = ps_bayes[['Label', 'DestinationPort', 'TotalFwdPackets', 'TotalBackwardPackets',\n",
    "       'FwdPacketLengthMax', 'FwdPacketLengthMin', 'FwdPacketLengthStd',\n",
    "       'BwdPacketLengthMax', 'FlowIATMin', 'FwdIATStd', 'FwdIATMin',\n",
    "       'FwdPSHFlags', 'BwdPSHFlags', 'FwdURGFlags', 'BwdURGFlags',\n",
    "       'FwdPackets_s', 'BwdPackets_s', 'MinPacketLength', 'MaxPacketLength',\n",
    "       'FINFlagCount', 'SYNFlagCount', 'RSTFlagCount', 'PSHFlagCount',\n",
    "       'ACKFlagCount', 'URGFlagCount', 'CWEFlagCount', 'ECEFlagCount',\n",
    "       'Down/UpRatio', 'AvgFwdSegmentSize', 'FwdAvgBytes/Bulk',\n",
    "       'FwdAvgPackets/Bulk', 'FwdAvgBulkRate', 'BwdAvgBytes/Bulk',\n",
    "       'BwdAvgPackets/Bulk', 'BwdAvgBulkRate', 'SubflowFwdPackets',\n",
    "       'SubflowBwdPackets', 'act_data_pkt_fwd']]\n",
    "\n",
    "ddos_lr = ddos_lr[['Label', 'DestinationPort', 'FlowDuration', 'TotalBackwardPackets',\n",
    "       'TotalLengthofFwdPackets', 'FwdPacketLengthMax', 'FwdPacketLengthMin',\n",
    "       'FwdPacketLengthMean', 'FwdPacketLengthStd', 'BwdPacketLengthMax',\n",
    "       'BwdPacketLengthMin', 'BwdPacketLengthStd', 'FlowBytes_s',\n",
    "       'FlowPackets_s', 'FlowIATMean', 'FlowIATStd', 'FlowIATMax',\n",
    "       'FwdIATTotal', 'FwdIATStd', 'FwdIATMax', 'FwdIATMin', 'BwdIATTotal',\n",
    "       'BwdIATMean', 'BwdIATStd', 'BwdIATMax', 'BwdIATMin', 'FwdPSHFlags',\n",
    "       'BwdPSHFlags', 'FwdURGFlags', 'BwdURGFlags', 'BwdHeaderLength',\n",
    "       'FwdPackets_s', 'BwdPackets_s', 'MinPacketLength', 'MaxPacketLength',\n",
    "       'PacketLengthMean', 'PacketLengthStd', 'PacketLengthVariance',\n",
    "       'FINFlagCount', 'SYNFlagCount', 'RSTFlagCount', 'PSHFlagCount',\n",
    "       'ACKFlagCount', 'URGFlagCount', 'ECEFlagCount', 'Down/UpRatio',\n",
    "       'AveragePacketSize', 'AvgFwdSegmentSize', 'AvgBwdSegmentSize',\n",
    "       'FwdAvgPackets/Bulk', 'FwdAvgBulkRate', 'BwdAvgBytes/Bulk',\n",
    "       'BwdAvgPackets/Bulk', 'BwdAvgBulkRate', 'SubflowFwdPackets',\n",
    "       'SubflowFwdBytes', 'SubflowBwdBytes', 'Init_Win_bytes_forward',\n",
    "       'Init_Win_bytes_backward', 'act_data_pkt_fwd', 'min_seg_size_forward',\n",
    "       'ActiveMean', 'ActiveMin', 'IdleMean', 'IdleMax', 'IdleMin']]\n",
    "\n",
    "ddos_bayes = ddos_bayes[['Label', 'TotalBackwardPackets', 'FwdPacketLengthMax', 'FwdPacketLengthMin',\n",
    "       'FwdPacketLengthMean', 'FwdPacketLengthStd', 'BwdPacketLengthMax',\n",
    "       'BwdPacketLengthMin', 'BwdPacketLengthMean', 'BwdPacketLengthStd',\n",
    "       'FlowIATMean', 'FlowIATStd', 'FlowIATMax', 'FwdIATTotal', 'FwdIATMean',\n",
    "       'FwdIATStd', 'FwdIATMax', 'BwdIATMax', 'FwdPSHFlags', 'BwdPSHFlags',\n",
    "       'FwdURGFlags', 'BwdURGFlags', 'FwdHeaderLength', 'BwdHeaderLength',\n",
    "       'BwdPackets_s', 'MinPacketLength', 'MaxPacketLength',\n",
    "       'PacketLengthMean', 'PacketLengthStd', 'PacketLengthVariance',\n",
    "       'FINFlagCount', 'SYNFlagCount', 'RSTFlagCount', 'PSHFlagCount',\n",
    "       'ACKFlagCount', 'URGFlagCount', 'CWEFlagCount', 'ECEFlagCount',\n",
    "       'Down/UpRatio', 'AveragePacketSize', 'AvgFwdSegmentSize',\n",
    "       'AvgBwdSegmentSize', 'FwdHeaderLength.1', 'FwdAvgBytes/Bulk',\n",
    "       'FwdAvgPackets/Bulk', 'FwdAvgBulkRate', 'BwdAvgBytes/Bulk',\n",
    "       'BwdAvgPackets/Bulk', 'BwdAvgBulkRate', 'SubflowFwdPackets',\n",
    "       'SubflowBwdPackets', 'Init_Win_bytes_forward', 'act_data_pkt_fwd',\n",
    "       'min_seg_size_forward', 'ActiveMean', 'ActiveMax', 'ActiveMin',\n",
    "       'IdleMean', 'IdleStd', 'IdleMax', 'IdleMin']]"
   ]
  },
  {
   "cell_type": "code",
   "execution_count": null,
   "metadata": {},
   "outputs": [],
   "source": [
    "import seaborn as sns\n",
    "import matplotlib.pyplot as plt\n",
    "\n",
    "plt.figure(figsize=(25,10))\n",
    "\n",
    "for col in ps_lr:\n",
    "    sorted_nb = ps_lr.groupby(['Label'])[col].median().sort_values()\n",
    "    chart = sns.boxplot(\n",
    "        x = ps_lr['Label'], \n",
    "        y = ps_lr[col], \n",
    "        order = list(sorted_nb.index)\n",
    "    )\n",
    "\n",
    "    chart.set_xticklabels(\n",
    "        chart.get_xticklabels(),\n",
    "        rotation = 90)\n",
    "    plt.show()"
   ]
  },
  {
   "cell_type": "code",
   "execution_count": null,
   "metadata": {},
   "outputs": [],
   "source": [
    "corr = ps_lr.corr()\n",
    "plt.figure(figsize=(79, 79))\n",
    "heatMap = sns.heatmap(\n",
    "    corr,\n",
    "    vmin = -1, vmax = 1, center = 0,\n",
    "    annot = True,\n",
    "    cmap = sns.diverging_palette(20, 220, n=200),\n",
    "    square = True\n",
    ")"
   ]
  },
  {
   "cell_type": "code",
   "execution_count": null,
   "metadata": {},
   "outputs": [],
   "source": [
    "corr = ddos_lr.corr()\n",
    "plt.figure(figsize=(79, 79))\n",
    "heatMap = sns.heatmap(\n",
    "    corr,\n",
    "    vmin = -1, vmax = 1, center = 0,\n",
    "    annot=True,\n",
    "    cmap=sns.diverging_palette(20, 220, n=200),\n",
    "    square=True\n",
    ")"
   ]
  }
 ],
 "metadata": {
  "kernelspec": {
   "display_name": "Python 3",
   "language": "python",
   "name": "python3"
  },
  "language_info": {
   "codemirror_mode": {
    "name": "ipython",
    "version": 3
   },
   "file_extension": ".py",
   "mimetype": "text/x-python",
   "name": "python",
   "nbconvert_exporter": "python",
   "pygments_lexer": "ipython3",
   "version": "3.7.4"
  }
 },
 "nbformat": 4,
 "nbformat_minor": 2
}
