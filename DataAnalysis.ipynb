{
 "cells": [
  {
   "cell_type": "code",
   "execution_count": 1,
   "metadata": {},
   "outputs": [],
   "source": [
    "# -------------------------------------------------------- Imports\n",
    "import pandas as pd\n",
    "import numpy as np\n",
    "import os\n",
    "\n",
    "pd.options.display.max_rows = 1008\n",
    "pd.options.display.max_columns = 100"
   ]
  },
  {
   "cell_type": "code",
   "execution_count": 2,
   "metadata": {
    "scrolled": false
   },
   "outputs": [],
   "source": [
    "# -------------------------------------------------------- Create Notebook, Path, and inital DFs\n",
    "notebook_path = os.path.abspath(\"DataAnalysis.ipynb\")\n",
    "temp = os.path.abspath(\"Data\")\n",
    "\n",
    "# Load in all of the relevant work sheets\n",
    "# We chose not to load in the worksheets that had attacks that we did not initially \n",
    "#    plan on modeling to save space and computation time\n",
    "\n",
    "# df1 = pd.read_csv(temp + \"\\\\Friday-WorkingHours-Afternoon-DDos.pcap_ISCX.csv\", low_memory = False)\n",
    "# df2 = pd.read_csv(temp + \"\\\\Friday-WorkingHours-Afternoon-PortScan.pcap_ISCX.csv\", low_memory = False)\n",
    "# df3 = pd.read_csv(temp + \"\\\\Tuesday-WorkingHours.pcap_ISCX.csv\", low_memory = False)\n",
    "# df4 = pd.read_csv(temp + \"\\\\Wednesday-workingHours.pcap_ISCX.csv\", low_memory = False)"
   ]
  },
  {
   "cell_type": "code",
   "execution_count": 3,
   "metadata": {},
   "outputs": [],
   "source": [
    "# -------------------------------------------------------- Remove/Replace irritating values in column names\n",
    "\n",
    "# df1.columns = df1.columns.str.replace(' ', '')\n",
    "# df1.columns = df1.columns.str.replace('/s', '_s')\n",
    "\n",
    "# df2.columns = df2.columns.str.replace(' ', '')\n",
    "# df2.columns = df2.columns.str.replace('/s', '_s')\n",
    "\n",
    "# df3.columns = df3.columns.str.replace(' ', '')\n",
    "# df3.columns = df3.columns.str.replace('/s', '_s')\n",
    "\n",
    "# df4.columns = df4.columns.str.replace(' ', '')\n",
    "# df4.columns = df4.columns.str.replace('/s', '_s')"
   ]
  },
  {
   "cell_type": "code",
   "execution_count": 4,
   "metadata": {},
   "outputs": [],
   "source": [
    "# -------------------------------------------------------- Combine dataframes together\n",
    "# full_df = df1.append(df2)\n",
    "# full_df = full_df.append(df3)\n",
    "# full_df = full_df.append(df4)"
   ]
  },
  {
   "cell_type": "code",
   "execution_count": 5,
   "metadata": {},
   "outputs": [],
   "source": [
    "# -------------------------------------------------------- NaN Value Analysis\n",
    "# Sums the NaN values per column\n",
    "# df1.isna().sum()\n",
    "\n",
    "# Prints the rows that are NaN values\n",
    "# df1[df1.isna().any(axis=1)]\n",
    "\n",
    "\n",
    "# NULL VALUES IN COLUMN \"FlowBytes\":\n",
    "#         df1 = 1 / , df2 = 15 / 286467 , df3 = 201 / 445909 , df4 = 1008 / 692703\n",
    "#         TOTAL NaN ROWS: 1228"
   ]
  },
  {
   "cell_type": "code",
   "execution_count": 6,
   "metadata": {},
   "outputs": [],
   "source": [
    "# -------------------------------------------------------- Label Counts\n",
    "\n",
    "# print(\"DF1\")\n",
    "# print(df1.Label.value_counts())\n",
    "\n",
    "# print(\"\\nDF2\")\n",
    "# print(df2.Label.value_counts())\n",
    "\n",
    "# print(\"\\nDF3\")\n",
    "# print(df3.Label.value_counts())\n",
    "\n",
    "# print(\"\\nDF4\")\n",
    "# print(df4.Label.value_counts())"
   ]
  },
  {
   "cell_type": "code",
   "execution_count": 7,
   "metadata": {},
   "outputs": [],
   "source": [
    "# -------------------------------------------------------- Drop attack types we are not concerened with\n",
    "\n",
    "# full_df = full_df[full_df.Label != 'Heartbleed']\n",
    "\n",
    "\n",
    "#  full_df.dropna(how = 'any', subset=['DestinationPort', 'FlowDuration', 'TotalFwdPackets',\n",
    "#        'TotalBackwardPackets', 'TotalLengthofFwdPackets',\n",
    "#        'TotalLengthofBwdPackets', 'FwdPacketLengthMax', 'FwdPacketLengthMin',\n",
    "#        'FwdPacketLengthMean', 'FwdPacketLengthStd', 'BwdPacketLengthMax',\n",
    "#        'BwdPacketLengthMin', 'BwdPacketLengthMean', 'BwdPacketLengthStd',\n",
    "#        'FlowBytes', 'FlowPackets', 'FlowIATMean', 'FlowIATStd', 'FlowIATMax',\n",
    "#        'FlowIATMin', 'FwdIATTotal', 'FwdIATMean', 'FwdIATStd', 'FwdIATMax',\n",
    "#        'FwdIATMin', 'BwdIATTotal', 'BwdIATMean', 'BwdIATStd', 'BwdIATMax',\n",
    "#        'BwdIATMin', 'FwdPSHFlags', 'BwdPSHFlags', 'FwdURGFlags', 'BwdURGFlags',\n",
    "#        'FwdHeaderLength', 'BwdHeaderLength', 'FwdPackets', 'BwdPackets',\n",
    "#        'MinPacketLength', 'MaxPacketLength', 'PacketLengthMean',\n",
    "#        'PacketLengthStd', 'PacketLengthVariance', 'FINFlagCount',\n",
    "#        'SYNFlagCount', 'RSTFlagCount', 'PSHFlagCount', 'ACKFlagCount',\n",
    "#        'URGFlagCount', 'CWEFlagCount', 'ECEFlagCount', 'Down/UpRatio',\n",
    "#        'AveragePacketSize', 'AvgFwdSegmentSize', 'AvgBwdSegmentSize',\n",
    "#        'FwdHeaderLength.1', 'FwdAvgBytes/Bulk', 'FwdAvgPackets/Bulk',\n",
    "#        'FwdAvgBulkRate', 'BwdAvgBytes/Bulk', 'BwdAvgPackets/Bulk',\n",
    "#        'BwdAvgBulkRate', 'SubflowFwdPackets', 'SubflowFwdBytes',\n",
    "#        'SubflowBwdPackets', 'SubflowBwdBytes', 'Init_Win_bytes_forward',\n",
    "#        'Init_Win_bytes_backward', 'act_data_pkt_fwd', 'min_seg_size_forward',\n",
    "#        'ActiveMean', 'ActiveStd', 'ActiveMax', 'ActiveMin', 'IdleMean',\n",
    "#        'IdleStd', 'IdleMax', 'IdleMin', 'Label'], inplace = True)\n",
    "\n",
    "# full_df"
   ]
  },
  {
   "cell_type": "code",
   "execution_count": 8,
   "metadata": {},
   "outputs": [],
   "source": [
    "# full_df.Label.value_counts()"
   ]
  },
  {
   "cell_type": "code",
   "execution_count": 9,
   "metadata": {},
   "outputs": [],
   "source": [
    "# -------------------------------------------------------- Move 'Label' to the front of the columns list in the combined \n",
    "#                                                             packet\n",
    "\n",
    "# full_df = full_df[['Label', 'DestinationPort', 'FlowDuration', 'TotalFwdPackets',\n",
    "#        'TotalBackwardPackets', 'TotalLengthofFwdPackets',\n",
    "#        'TotalLengthofBwdPackets', 'FwdPacketLengthMax', 'FwdPacketLengthMin',\n",
    "#        'FwdPacketLengthMean', 'FwdPacketLengthStd', 'BwdPacketLengthMax',\n",
    "#        'BwdPacketLengthMin', 'BwdPacketLengthMean', 'BwdPacketLengthStd',\n",
    "#        'FlowBytes_s', 'FlowPackets_s', 'FlowIATMean', 'FlowIATStd',\n",
    "#        'FlowIATMax', 'FlowIATMin', 'FwdIATTotal', 'FwdIATMean', 'FwdIATStd',\n",
    "#        'FwdIATMax', 'FwdIATMin', 'BwdIATTotal', 'BwdIATMean', 'BwdIATStd',\n",
    "#        'BwdIATMax', 'BwdIATMin', 'FwdPSHFlags', 'BwdPSHFlags', 'FwdURGFlags',\n",
    "#        'BwdURGFlags', 'FwdHeaderLength', 'BwdHeaderLength', 'FwdPackets_s',\n",
    "#        'BwdPackets_s', 'MinPacketLength', 'MaxPacketLength',\n",
    "#        'PacketLengthMean', 'PacketLengthStd', 'PacketLengthVariance',\n",
    "#        'FINFlagCount', 'SYNFlagCount', 'RSTFlagCount', 'PSHFlagCount',\n",
    "#        'ACKFlagCount', 'URGFlagCount', 'CWEFlagCount', 'ECEFlagCount',\n",
    "#        'Down/UpRatio', 'AveragePacketSize', 'AvgFwdSegmentSize',\n",
    "#        'AvgBwdSegmentSize', 'FwdHeaderLength.1', 'FwdAvgBytes/Bulk',\n",
    "#        'FwdAvgPackets/Bulk', 'FwdAvgBulkRate', 'BwdAvgBytes/Bulk',\n",
    "#        'BwdAvgPackets/Bulk', 'BwdAvgBulkRate', 'SubflowFwdPackets',\n",
    "#        'SubflowFwdBytes', 'SubflowBwdPackets', 'SubflowBwdBytes',\n",
    "#        'Init_Win_bytes_forward', 'Init_Win_bytes_backward', 'act_data_pkt_fwd',\n",
    "#        'min_seg_size_forward', 'ActiveMean', 'ActiveStd', 'ActiveMax',\n",
    "#        'ActiveMin', 'IdleMean', 'IdleStd', 'IdleMax', 'IdleMin']]"
   ]
  },
  {
   "cell_type": "code",
   "execution_count": 10,
   "metadata": {},
   "outputs": [],
   "source": [
    "# ben = full_df[full_df.Label == 'BENIGN']\n",
    "# dos_h = full_df[full_df.Label == 'DoS Hulk']\n",
    "# p_scan = full_df[full_df.Label == 'PortScan']\n",
    "# ddos = full_df[full_df.Label == 'DDoS']\n",
    "# dos_ge = full_df[full_df.Label == 'DoS GoldenEye']\n",
    "# ftp_pat = full_df[full_df.Label == 'FTP-Patator']\n",
    "# ssh_pat = full_df[full_df.Label == 'SSH-Patator']\n",
    "# dos_slowloris = full_df[full_df.Label == 'DoS slowloris']\n",
    "# dos_slowhttp = full_df[full_df.Label == 'DoS Slowhttptest']"
   ]
  },
  {
   "cell_type": "code",
   "execution_count": 11,
   "metadata": {},
   "outputs": [],
   "source": [
    "# --------------------------------------------------------------SCATTER PLOTS\n",
    "# import matplotlib.pyplot as plt\n",
    "\n",
    "# olist = list(ps_lr.columns) # original list\n",
    "# yvlist = list(['Label']) # y variable list\n",
    "\n",
    "# # make a new list of only the values I want to compare\n",
    "# xlist = [x for x in olist if x not in yvlist]\n",
    "\n",
    "# fig = plt.figure(figsize = (20, 25))\n",
    "# plotNum = 1\n",
    "# for key in xlist:\n",
    "#     ax = plt.subplot(6, 3, plotNum)\n",
    "#     ax.scatter(x = ps_lr[key], y = ps_lr['Label'])\n",
    "#     ax.set_xlabel(key)\n",
    "#     ax.set_ylabel('Label')\n",
    "#     plotNum = plotNum + 1"
   ]
  },
  {
   "cell_type": "code",
   "execution_count": 12,
   "metadata": {},
   "outputs": [],
   "source": [
    "# --------------------------------------------------------------- CORRELATION MAP\n",
    "\n",
    "# corr = ben.corr()\n",
    "# plt.figure(figsize=(79, 79))\n",
    "# heatMap = sns.heatmap(\n",
    "#     corr,\n",
    "#     vmin = -1, vmax = 1, center = 0,\n",
    "#     annot=True,\n",
    "#     cmap=sns.diverging_palette(20, 220, n=200),\n",
    "#     square=True\n",
    "# )"
   ]
  },
  {
   "cell_type": "code",
   "execution_count": 13,
   "metadata": {},
   "outputs": [],
   "source": [
    "# ben.dtypes"
   ]
  },
  {
   "cell_type": "code",
   "execution_count": 14,
   "metadata": {},
   "outputs": [],
   "source": [
    "# ------------------------------------------ DFs for the final models\n",
    "\n",
    "ps_lr = pd.read_csv(temp + \"\\\\finalportscanlr.csv\", low_memory = False)\n",
    "ps_bayes = pd.read_csv(temp + \"\\\\final-portscan-bayes.csv\", low_memory = False)\n",
    "\n",
    "ddos_lr = pd.read_csv(temp + \"\\\\finalddoslr.csv\", low_memory = False)\n",
    "# ddos.bayes = pd.read_csv(temp + \"\\\\finalddosbayes.csv\", low_memory = False)\n",
    "\n",
    "ps_label = pd.read_csv(temp + \"\\\\PortScanLabel.csv\", low_memory = False)\n",
    "ddos_label = pd.read_csv(temp + \"\\\\DDOSLabel.csv\", low_memory = False)"
   ]
  }
 ],
 "metadata": {
  "kernelspec": {
   "display_name": "Python 3",
   "language": "python",
   "name": "python3"
  },
  "language_info": {
   "codemirror_mode": {
    "name": "ipython",
    "version": 3
   },
   "file_extension": ".py",
   "mimetype": "text/x-python",
   "name": "python",
   "nbconvert_exporter": "python",
   "pygments_lexer": "ipython3",
   "version": "3.7.4"
  }
 },
 "nbformat": 4,
 "nbformat_minor": 2
}
