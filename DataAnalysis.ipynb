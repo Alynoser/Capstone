{
 "cells": [
  {
   "cell_type": "code",
   "execution_count": 1,
   "metadata": {},
   "outputs": [],
   "source": [
    "import pandas as pd\n",
    "import numpy as np\n",
    "import matplotlib\n",
    "import matplotlib.pyplot as plt\n",
    "import seaborn as sns\n",
    "# %matplotlib inline\n",
    "import sklearn\n",
    "from sklearn import datasets, linear_model, model_selection\n",
    "from sklearn.model_selection import train_test_split\n",
    "from sklearn.tree import DecisionTreeClassifier\n",
    "from sklearn.linear_model import Ridge, Lasso\n",
    "from sklearn.model_selection import cross_val_score\n",
    "from sklearn.model_selection import cross_validate\n",
    "from sklearn.metrics import recall_score\n",
    "import os\n",
    "pd.options.display.max_rows = 1008\n",
    "pd.options.display.max_columns = 100"
   ]
  },
  {
   "cell_type": "code",
   "execution_count": 2,
   "metadata": {
    "scrolled": false
   },
   "outputs": [],
   "source": [
    "notebook_path = os.path.abspath(\"DataAnalysis.ipynb\")\n",
    "temp = os.path.abspath(\"Data\")\n",
    "\n",
    "# Load in all of the relevant work sheets\n",
    "# We chose not to load in the worksheets that had attacks that we did not initially \n",
    "#    plan on modeling to save space and computation time\n",
    "\n",
    "df1 = pd.read_csv(temp + \"\\\\Friday-WorkingHours-Afternoon-DDos.pcap_ISCX.csv\", low_memory = False)\n",
    "df2 = pd.read_csv(temp + \"\\\\Friday-WorkingHours-Afternoon-PortScan.pcap_ISCX.csv\", low_memory = False)\n",
    "df3 = pd.read_csv(temp + \"\\\\Tuesday-WorkingHours.pcap_ISCX.csv\", low_memory = False)\n",
    "df4 = pd.read_csv(temp + \"\\\\Wednesday-workingHours.pcap_ISCX.csv\", low_memory = False)"
   ]
  },
  {
   "cell_type": "code",
   "execution_count": 3,
   "metadata": {},
   "outputs": [],
   "source": [
    "df1.columns = df1.columns.str.replace(' ', '')\n",
    "df2.columns = df2.columns.str.replace(' ', '')\n",
    "df3.columns = df3.columns.str.replace(' ', '')\n",
    "df4.columns = df4.columns.str.replace(' ', '')\n",
    "\n",
    "df1.columns = df1.columns.str.replace('/s', '_s')\n",
    "df2.columns = df2.columns.str.replace('/s', '_s')\n",
    "df3.columns = df3.columns.str.replace('/s', '_s')\n",
    "df4.columns = df4.columns.str.replace('/s', '_s')"
   ]
  },
  {
   "cell_type": "code",
   "execution_count": 4,
   "metadata": {},
   "outputs": [],
   "source": [
    "# Combine dataframes together\n",
    "df = df1.append(df2)\n",
    "df = df.append(df3)\n",
    "df = df.append(df4)"
   ]
  },
  {
   "cell_type": "code",
   "execution_count": 5,
   "metadata": {},
   "outputs": [
    {
     "data": {
      "text/plain": [
       "DestinationPort               0\n",
       "FlowDuration                  0\n",
       "TotalFwdPackets               0\n",
       "TotalBackwardPackets          0\n",
       "TotalLengthofFwdPackets       0\n",
       "TotalLengthofBwdPackets       0\n",
       "FwdPacketLengthMax            0\n",
       "FwdPacketLengthMin            0\n",
       "FwdPacketLengthMean           0\n",
       "FwdPacketLengthStd            0\n",
       "BwdPacketLengthMax            0\n",
       "BwdPacketLengthMin            0\n",
       "BwdPacketLengthMean           0\n",
       "BwdPacketLengthStd            0\n",
       "FlowBytes_s                1228\n",
       "FlowPackets_s                 0\n",
       "FlowIATMean                   0\n",
       "FlowIATStd                    0\n",
       "FlowIATMax                    0\n",
       "FlowIATMin                    0\n",
       "FwdIATTotal                   0\n",
       "FwdIATMean                    0\n",
       "FwdIATStd                     0\n",
       "FwdIATMax                     0\n",
       "FwdIATMin                     0\n",
       "BwdIATTotal                   0\n",
       "BwdIATMean                    0\n",
       "BwdIATStd                     0\n",
       "BwdIATMax                     0\n",
       "BwdIATMin                     0\n",
       "FwdPSHFlags                   0\n",
       "BwdPSHFlags                   0\n",
       "FwdURGFlags                   0\n",
       "BwdURGFlags                   0\n",
       "FwdHeaderLength               0\n",
       "BwdHeaderLength               0\n",
       "FwdPackets_s                  0\n",
       "BwdPackets_s                  0\n",
       "MinPacketLength               0\n",
       "MaxPacketLength               0\n",
       "PacketLengthMean              0\n",
       "PacketLengthStd               0\n",
       "PacketLengthVariance          0\n",
       "FINFlagCount                  0\n",
       "SYNFlagCount                  0\n",
       "RSTFlagCount                  0\n",
       "PSHFlagCount                  0\n",
       "ACKFlagCount                  0\n",
       "URGFlagCount                  0\n",
       "CWEFlagCount                  0\n",
       "ECEFlagCount                  0\n",
       "Down/UpRatio                  0\n",
       "AveragePacketSize             0\n",
       "AvgFwdSegmentSize             0\n",
       "AvgBwdSegmentSize             0\n",
       "FwdHeaderLength.1             0\n",
       "FwdAvgBytes/Bulk              0\n",
       "FwdAvgPackets/Bulk            0\n",
       "FwdAvgBulkRate                0\n",
       "BwdAvgBytes/Bulk              0\n",
       "BwdAvgPackets/Bulk            0\n",
       "BwdAvgBulkRate                0\n",
       "SubflowFwdPackets             0\n",
       "SubflowFwdBytes               0\n",
       "SubflowBwdPackets             0\n",
       "SubflowBwdBytes               0\n",
       "Init_Win_bytes_forward        0\n",
       "Init_Win_bytes_backward       0\n",
       "act_data_pkt_fwd              0\n",
       "min_seg_size_forward          0\n",
       "ActiveMean                    0\n",
       "ActiveStd                     0\n",
       "ActiveMax                     0\n",
       "ActiveMin                     0\n",
       "IdleMean                      0\n",
       "IdleStd                       0\n",
       "IdleMax                       0\n",
       "IdleMin                       0\n",
       "Label                         0\n",
       "dtype: int64"
      ]
     },
     "execution_count": 5,
     "metadata": {},
     "output_type": "execute_result"
    }
   ],
   "source": [
    "df.isna().sum()\n",
    "# NULL VALUES IN COLUMN \"FlowBytes\":\n",
    "#         df2 = 15 / 286467 , df3 = 201 / 445909 , df4 = 1008 / 692703\n",
    "#         TOTAL NaN ROWS: 1228"
   ]
  },
  {
   "cell_type": "code",
   "execution_count": 6,
   "metadata": {},
   "outputs": [
    {
     "name": "stdout",
     "output_type": "stream",
     "text": [
      "DF1\n",
      "DDoS      128027\n",
      "BENIGN     97718\n",
      "Name: Label, dtype: int64\n",
      "\n",
      "DF2\n",
      "PortScan    158930\n",
      "BENIGN      127537\n",
      "Name: Label, dtype: int64\n",
      "\n",
      "DF3\n",
      "BENIGN         432074\n",
      "FTP-Patator      7938\n",
      "SSH-Patator      5897\n",
      "Name: Label, dtype: int64\n",
      "\n",
      "DF4\n",
      "BENIGN              440031\n",
      "DoS Hulk            231073\n",
      "DoS GoldenEye        10293\n",
      "DoS slowloris         5796\n",
      "DoS Slowhttptest      5499\n",
      "Heartbleed              11\n",
      "Name: Label, dtype: int64\n"
     ]
    }
   ],
   "source": [
    "# Count labels before dropping them\n",
    "print(\"DF1\")\n",
    "print(df1.Label.value_counts())\n",
    "print(\"\\nDF2\")\n",
    "print(df2.Label.value_counts())\n",
    "print(\"\\nDF3\")\n",
    "print(df3.Label.value_counts())\n",
    "print(\"\\nDF4\")\n",
    "print(df4.Label.value_counts())"
   ]
  },
  {
   "cell_type": "code",
   "execution_count": 7,
   "metadata": {},
   "outputs": [
    {
     "data": {
      "text/plain": [
       "Index(['DestinationPort', 'FlowDuration', 'TotalFwdPackets',\n",
       "       'TotalBackwardPackets', 'TotalLengthofFwdPackets',\n",
       "       'TotalLengthofBwdPackets', 'FwdPacketLengthMax', 'FwdPacketLengthMin',\n",
       "       'FwdPacketLengthMean', 'FwdPacketLengthStd', 'BwdPacketLengthMax',\n",
       "       'BwdPacketLengthMin', 'BwdPacketLengthMean', 'BwdPacketLengthStd',\n",
       "       'FlowBytes_s', 'FlowPackets_s', 'FlowIATMean', 'FlowIATStd',\n",
       "       'FlowIATMax', 'FlowIATMin', 'FwdIATTotal', 'FwdIATMean', 'FwdIATStd',\n",
       "       'FwdIATMax', 'FwdIATMin', 'BwdIATTotal', 'BwdIATMean', 'BwdIATStd',\n",
       "       'BwdIATMax', 'BwdIATMin', 'FwdPSHFlags', 'BwdPSHFlags', 'FwdURGFlags',\n",
       "       'BwdURGFlags', 'FwdHeaderLength', 'BwdHeaderLength', 'FwdPackets_s',\n",
       "       'BwdPackets_s', 'MinPacketLength', 'MaxPacketLength',\n",
       "       'PacketLengthMean', 'PacketLengthStd', 'PacketLengthVariance',\n",
       "       'FINFlagCount', 'SYNFlagCount', 'RSTFlagCount', 'PSHFlagCount',\n",
       "       'ACKFlagCount', 'URGFlagCount', 'CWEFlagCount', 'ECEFlagCount',\n",
       "       'Down/UpRatio', 'AveragePacketSize', 'AvgFwdSegmentSize',\n",
       "       'AvgBwdSegmentSize', 'FwdHeaderLength.1', 'FwdAvgBytes/Bulk',\n",
       "       'FwdAvgPackets/Bulk', 'FwdAvgBulkRate', 'BwdAvgBytes/Bulk',\n",
       "       'BwdAvgPackets/Bulk', 'BwdAvgBulkRate', 'SubflowFwdPackets',\n",
       "       'SubflowFwdBytes', 'SubflowBwdPackets', 'SubflowBwdBytes',\n",
       "       'Init_Win_bytes_forward', 'Init_Win_bytes_backward', 'act_data_pkt_fwd',\n",
       "       'min_seg_size_forward', 'ActiveMean', 'ActiveStd', 'ActiveMax',\n",
       "       'ActiveMin', 'IdleMean', 'IdleStd', 'IdleMax', 'IdleMin', 'Label'],\n",
       "      dtype='object')"
      ]
     },
     "execution_count": 7,
     "metadata": {},
     "output_type": "execute_result"
    }
   ],
   "source": [
    "df2.columns"
   ]
  },
  {
   "cell_type": "code",
   "execution_count": 8,
   "metadata": {
    "scrolled": true
   },
   "outputs": [],
   "source": [
    "# CHECKING values for NaN rows. Benign or nah?\n",
    "# df4[df4.isna().any(axis=1)]"
   ]
  },
  {
   "cell_type": "code",
   "execution_count": 9,
   "metadata": {},
   "outputs": [],
   "source": [
    "# As per our project plan, we dropped any attack that had below 5k instances\n",
    "df = df[df.Label != 'Heartbleed']\n",
    "\n",
    "\n",
    "# Do not want to delete NaN values. All NaN values are in the Flow Bytes column, first check to see if we need this column at all.\n",
    "\n",
    "#  df.dropna(how = 'any', subset=['DestinationPort', 'FlowDuration', 'TotalFwdPackets',\n",
    "#        'TotalBackwardPackets', 'TotalLengthofFwdPackets',\n",
    "#        'TotalLengthofBwdPackets', 'FwdPacketLengthMax', 'FwdPacketLengthMin',\n",
    "#        'FwdPacketLengthMean', 'FwdPacketLengthStd', 'BwdPacketLengthMax',\n",
    "#        'BwdPacketLengthMin', 'BwdPacketLengthMean', 'BwdPacketLengthStd',\n",
    "#        'FlowBytes', 'FlowPackets', 'FlowIATMean', 'FlowIATStd', 'FlowIATMax',\n",
    "#        'FlowIATMin', 'FwdIATTotal', 'FwdIATMean', 'FwdIATStd', 'FwdIATMax',\n",
    "#        'FwdIATMin', 'BwdIATTotal', 'BwdIATMean', 'BwdIATStd', 'BwdIATMax',\n",
    "#        'BwdIATMin', 'FwdPSHFlags', 'BwdPSHFlags', 'FwdURGFlags', 'BwdURGFlags',\n",
    "#        'FwdHeaderLength', 'BwdHeaderLength', 'FwdPackets', 'BwdPackets',\n",
    "#        'MinPacketLength', 'MaxPacketLength', 'PacketLengthMean',\n",
    "#        'PacketLengthStd', 'PacketLengthVariance', 'FINFlagCount',\n",
    "#        'SYNFlagCount', 'RSTFlagCount', 'PSHFlagCount', 'ACKFlagCount',\n",
    "#        'URGFlagCount', 'CWEFlagCount', 'ECEFlagCount', 'Down/UpRatio',\n",
    "#        'AveragePacketSize', 'AvgFwdSegmentSize', 'AvgBwdSegmentSize',\n",
    "#        'FwdHeaderLength.1', 'FwdAvgBytes/Bulk', 'FwdAvgPackets/Bulk',\n",
    "#        'FwdAvgBulkRate', 'BwdAvgBytes/Bulk', 'BwdAvgPackets/Bulk',\n",
    "#        'BwdAvgBulkRate', 'SubflowFwdPackets', 'SubflowFwdBytes',\n",
    "#        'SubflowBwdPackets', 'SubflowBwdBytes', 'Init_Win_bytes_forward',\n",
    "#        'Init_Win_bytes_backward', 'act_data_pkt_fwd', 'min_seg_size_forward',\n",
    "#        'ActiveMean', 'ActiveStd', 'ActiveMax', 'ActiveMin', 'IdleMean',\n",
    "#        'IdleStd', 'IdleMax', 'IdleMin', 'Label'], inplace = True)\n",
    "\n",
    "# df"
   ]
  },
  {
   "cell_type": "code",
   "execution_count": 10,
   "metadata": {},
   "outputs": [
    {
     "data": {
      "text/plain": [
       "BENIGN              1097360\n",
       "DoS Hulk             231073\n",
       "PortScan             158930\n",
       "DDoS                 128027\n",
       "DoS GoldenEye         10293\n",
       "FTP-Patator            7938\n",
       "SSH-Patator            5897\n",
       "DoS slowloris          5796\n",
       "DoS Slowhttptest       5499\n",
       "Name: Label, dtype: int64"
      ]
     },
     "execution_count": 10,
     "metadata": {},
     "output_type": "execute_result"
    }
   ],
   "source": [
    "df.Label.value_counts()"
   ]
  },
  {
   "cell_type": "code",
   "execution_count": 12,
   "metadata": {},
   "outputs": [],
   "source": [
    "df = df[['Label', 'DestinationPort', 'FlowDuration', 'TotalFwdPackets',\n",
    "       'TotalBackwardPackets', 'TotalLengthofFwdPackets',\n",
    "       'TotalLengthofBwdPackets', 'FwdPacketLengthMax', 'FwdPacketLengthMin',\n",
    "       'FwdPacketLengthMean', 'FwdPacketLengthStd', 'BwdPacketLengthMax',\n",
    "       'BwdPacketLengthMin', 'BwdPacketLengthMean', 'BwdPacketLengthStd',\n",
    "       'FlowBytes_s', 'FlowPackets_s', 'FlowIATMean', 'FlowIATStd',\n",
    "       'FlowIATMax', 'FlowIATMin', 'FwdIATTotal', 'FwdIATMean', 'FwdIATStd',\n",
    "       'FwdIATMax', 'FwdIATMin', 'BwdIATTotal', 'BwdIATMean', 'BwdIATStd',\n",
    "       'BwdIATMax', 'BwdIATMin', 'FwdPSHFlags', 'BwdPSHFlags', 'FwdURGFlags',\n",
    "       'BwdURGFlags', 'FwdHeaderLength', 'BwdHeaderLength', 'FwdPackets_s',\n",
    "       'BwdPackets_s', 'MinPacketLength', 'MaxPacketLength',\n",
    "       'PacketLengthMean', 'PacketLengthStd', 'PacketLengthVariance',\n",
    "       'FINFlagCount', 'SYNFlagCount', 'RSTFlagCount', 'PSHFlagCount',\n",
    "       'ACKFlagCount', 'URGFlagCount', 'CWEFlagCount', 'ECEFlagCount',\n",
    "       'Down/UpRatio', 'AveragePacketSize', 'AvgFwdSegmentSize',\n",
    "       'AvgBwdSegmentSize', 'FwdHeaderLength.1', 'FwdAvgBytes/Bulk',\n",
    "       'FwdAvgPackets/Bulk', 'FwdAvgBulkRate', 'BwdAvgBytes/Bulk',\n",
    "       'BwdAvgPackets/Bulk', 'BwdAvgBulkRate', 'SubflowFwdPackets',\n",
    "       'SubflowFwdBytes', 'SubflowBwdPackets', 'SubflowBwdBytes',\n",
    "       'Init_Win_bytes_forward', 'Init_Win_bytes_backward', 'act_data_pkt_fwd',\n",
    "       'min_seg_size_forward', 'ActiveMean', 'ActiveStd', 'ActiveMax',\n",
    "       'ActiveMin', 'IdleMean', 'IdleStd', 'IdleMax', 'IdleMin']]"
   ]
  },
  {
   "cell_type": "code",
   "execution_count": null,
   "metadata": {},
   "outputs": [],
   "source": [
    "# ben = df[df.Label == 'BENIGN']\n",
    "# dos_h = df[df.Label == 'DoS Hulk']\n",
    "# p_scan = df[df.Label == 'PortScan']\n",
    "# ddos = df[df.Label == 'DDoS']\n",
    "# dos_ge = df[df.Label == 'DoS GoldenEye']\n",
    "# ftp_pat = df[df.Label == 'FTP-Patator']\n",
    "# ssh_pat = df[df.Label == 'SSH-Patator']\n",
    "# dos_slowloris = df[df.Label == 'DoS slowloris']\n",
    "# dos_slowhttp = df[df.Label == 'DoS Slowhttptest']"
   ]
  },
  {
   "cell_type": "code",
   "execution_count": null,
   "metadata": {},
   "outputs": [],
   "source": [
    "# olist = list(ben.columns) # original list\n",
    "# yvlist = list(['Label']) # y variable list\n",
    "\n",
    "# # make a new list of only the values I want to compare\n",
    "# xlist = [x for x in olist if x not in yvlist]\n",
    "\n",
    "# fig = plt.figure(figsize=(20, 25))\n",
    "# plotNum = 1\n",
    "# for key in xlist:\n",
    "#     ax = plt.subplot(6, 3, plotNum)\n",
    "#     ax.scatter(x=ben[key], y=ben['Label'])\n",
    "#     ax.set_xlabel(key)\n",
    "#     ax.set_ylabel('Label')\n",
    "#     plotNum = plotNum + 1"
   ]
  },
  {
   "cell_type": "code",
   "execution_count": null,
   "metadata": {},
   "outputs": [],
   "source": [
    "# # Making a correlation map\n",
    "# corr = ben.corr()\n",
    "# plt.figure(figsize=(79, 79))\n",
    "# heatMap = sns.heatmap(\n",
    "#     corr,\n",
    "#     vmin = -1, vmax = 1, center = 0,\n",
    "#     annot=True,\n",
    "#     cmap=sns.diverging_palette(20, 220, n=200),\n",
    "#     square=True\n",
    "# )"
   ]
  },
  {
   "cell_type": "code",
   "execution_count": null,
   "metadata": {},
   "outputs": [],
   "source": [
    "# ben.dtypes"
   ]
  },
  {
   "cell_type": "code",
   "execution_count": null,
   "metadata": {},
   "outputs": [],
   "source": []
  }
 ],
 "metadata": {
  "kernelspec": {
   "display_name": "Python 3",
   "language": "python",
   "name": "python3"
  },
  "language_info": {
   "codemirror_mode": {
    "name": "ipython",
    "version": 3
   },
   "file_extension": ".py",
   "mimetype": "text/x-python",
   "name": "python",
   "nbconvert_exporter": "python",
   "pygments_lexer": "ipython3",
   "version": "3.7.4"
  }
 },
 "nbformat": 4,
 "nbformat_minor": 2
}
