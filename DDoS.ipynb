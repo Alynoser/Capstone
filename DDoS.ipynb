{
 "cells": [
  {
   "cell_type": "code",
   "execution_count": 1,
   "metadata": {},
   "outputs": [],
   "source": [
    "import pandas as pd\n",
    "import numpy as np\n",
    "import matplotlib\n",
    "import matplotlib.pyplot as plt\n",
    "import seaborn as sns\n",
    "# %matplotlib inline\n",
    "import sklearn\n",
    "from sklearn import datasets, linear_model, model_selection\n",
    "from sklearn.model_selection import train_test_split\n",
    "from sklearn.tree import DecisionTreeClassifier\n",
    "from sklearn.linear_model import Ridge, Lasso\n",
    "from sklearn.model_selection import cross_val_score\n",
    "from sklearn.model_selection import cross_validate\n",
    "from sklearn.metrics import recall_score\n",
    "import os\n",
    "pd.options.display.max_rows = 10\n",
    "pd.options.display.max_columns = 10"
   ]
  },
  {
   "cell_type": "code",
   "execution_count": 2,
   "metadata": {},
   "outputs": [],
   "source": [
    "# Loading in Excel doc into a Dataframe\n",
    "notebook_path = os.path.abspath(\"DDoS.ipynb\")\n",
    "temp = os.path.abspath(\"Data\")\n",
    "df = pd.read_csv(temp + \"\\\\Friday-WorkingHours-Afternoon-DDos.pcap_ISCX.csv\", low_memory = False)"
   ]
  },
  {
   "cell_type": "code",
   "execution_count": 3,
   "metadata": {},
   "outputs": [],
   "source": [
    "# Edits the Column Names\n",
    "df.columns = df.columns.str.replace(' ', '')\n",
    "df.columns = df.columns.str.replace('/s', '_s')"
   ]
  },
  {
   "cell_type": "code",
   "execution_count": 4,
   "metadata": {},
   "outputs": [],
   "source": [
    "# Changes BENIGN and DDoS into 0 and 1 respectively so they can be plotted\n",
    "df.Label = df.Label.replace('BENIGN', 0)\n",
    "df.Label = df.Label.replace('DDoS', 1)"
   ]
  },
  {
   "cell_type": "code",
   "execution_count": 5,
   "metadata": {
    "scrolled": true
   },
   "outputs": [],
   "source": [
    "# Moves Label to the front of the list\n",
    "df = df[['Label', 'DestinationPort', 'FlowDuration', 'TotalFwdPackets',\n",
    "       'TotalBackwardPackets', 'TotalLengthofFwdPackets',\n",
    "       'TotalLengthofBwdPackets', 'FwdPacketLengthMax', 'FwdPacketLengthMin',\n",
    "       'FwdPacketLengthMean', 'FwdPacketLengthStd', 'BwdPacketLengthMax',\n",
    "       'BwdPacketLengthMin', 'BwdPacketLengthMean', 'BwdPacketLengthStd',\n",
    "       'FlowBytes_s', 'FlowPackets_s', 'FlowIATMean', 'FlowIATStd',\n",
    "       'FlowIATMax', 'FlowIATMin', 'FwdIATTotal', 'FwdIATMean', 'FwdIATStd',\n",
    "       'FwdIATMax', 'FwdIATMin', 'BwdIATTotal', 'BwdIATMean', 'BwdIATStd',\n",
    "       'BwdIATMax', 'BwdIATMin', 'FwdPSHFlags', 'BwdPSHFlags', 'FwdURGFlags',\n",
    "       'BwdURGFlags', 'FwdHeaderLength', 'BwdHeaderLength', 'FwdPackets_s',\n",
    "       'BwdPackets_s', 'MinPacketLength', 'MaxPacketLength',\n",
    "       'PacketLengthMean', 'PacketLengthStd', 'PacketLengthVariance',\n",
    "       'FINFlagCount', 'SYNFlagCount', 'RSTFlagCount', 'PSHFlagCount',\n",
    "       'ACKFlagCount', 'URGFlagCount', 'CWEFlagCount', 'ECEFlagCount',\n",
    "       'Down/UpRatio', 'AveragePacketSize', 'AvgFwdSegmentSize',\n",
    "       'AvgBwdSegmentSize', 'FwdHeaderLength.1', 'FwdAvgBytes/Bulk',\n",
    "       'FwdAvgPackets/Bulk', 'FwdAvgBulkRate', 'BwdAvgBytes/Bulk',\n",
    "       'BwdAvgPackets/Bulk', 'BwdAvgBulkRate', 'SubflowFwdPackets',\n",
    "       'SubflowFwdBytes', 'SubflowBwdPackets', 'SubflowBwdBytes',\n",
    "       'Init_Win_bytes_forward', 'Init_Win_bytes_backward', 'act_data_pkt_fwd',\n",
    "       'min_seg_size_forward', 'ActiveMean', 'ActiveStd', 'ActiveMax',\n",
    "       'ActiveMin', 'IdleMean', 'IdleStd', 'IdleMax', 'IdleMin']]"
   ]
  },
  {
   "cell_type": "code",
   "execution_count": 6,
   "metadata": {
    "scrolled": true
   },
   "outputs": [],
   "source": [
    "# df.dtypes\n",
    "# df.columns"
   ]
  },
  {
   "cell_type": "code",
   "execution_count": 7,
   "metadata": {},
   "outputs": [],
   "source": [
    "#Drops any rows with NA\n",
    "df.dropna(how = 'any', subset = ['Label', 'DestinationPort', 'FlowDuration', 'TotalFwdPackets',\n",
    "       'TotalBackwardPackets', 'TotalLengthofFwdPackets',\n",
    "       'TotalLengthofBwdPackets', 'FwdPacketLengthMax', 'FwdPacketLengthMin',\n",
    "       'FwdPacketLengthMean', 'FwdPacketLengthStd', 'BwdPacketLengthMax',\n",
    "       'BwdPacketLengthMin', 'BwdPacketLengthMean', 'BwdPacketLengthStd',\n",
    "       'FlowBytes_s', 'FlowPackets_s', 'FlowIATMean', 'FlowIATStd',\n",
    "       'FlowIATMax', 'FlowIATMin', 'FwdIATTotal', 'FwdIATMean', 'FwdIATStd',\n",
    "       'FwdIATMax', 'FwdIATMin', 'BwdIATTotal', 'BwdIATMean', 'BwdIATStd',\n",
    "       'BwdIATMax', 'BwdIATMin', 'FwdPSHFlags', 'BwdPSHFlags', 'FwdURGFlags',\n",
    "       'BwdURGFlags', 'FwdHeaderLength', 'BwdHeaderLength', 'FwdPackets_s',\n",
    "       'BwdPackets_s', 'MinPacketLength', 'MaxPacketLength',\n",
    "       'PacketLengthMean', 'PacketLengthStd', 'PacketLengthVariance',\n",
    "       'FINFlagCount', 'SYNFlagCount', 'RSTFlagCount', 'PSHFlagCount',\n",
    "       'ACKFlagCount', 'URGFlagCount', 'CWEFlagCount', 'ECEFlagCount',\n",
    "       'Down/UpRatio', 'AveragePacketSize', 'AvgFwdSegmentSize',\n",
    "       'AvgBwdSegmentSize', 'FwdHeaderLength.1', 'FwdAvgBytes/Bulk',\n",
    "       'FwdAvgPackets/Bulk', 'FwdAvgBulkRate', 'BwdAvgBytes/Bulk',\n",
    "       'BwdAvgPackets/Bulk', 'BwdAvgBulkRate', 'SubflowFwdPackets',\n",
    "       'SubflowFwdBytes', 'SubflowBwdPackets', 'SubflowBwdBytes',\n",
    "       'Init_Win_bytes_forward', 'Init_Win_bytes_backward', 'act_data_pkt_fwd',\n",
    "       'min_seg_size_forward', 'ActiveMean', 'ActiveStd', 'ActiveMax',\n",
    "       'ActiveMin', 'IdleMean', 'IdleStd', 'IdleMax', 'IdleMin'], inplace = True)"
   ]
  },
  {
   "cell_type": "code",
   "execution_count": 8,
   "metadata": {},
   "outputs": [],
   "source": [
    "# Removing infinity columns from FlowBytes and FlowPackets\n",
    "df = df[~df.FlowBytes_s.str.startswith('Infinity')]\n",
    "df = df[~df.FlowPackets_s.str.startswith('Infinity')]"
   ]
  },
  {
   "cell_type": "code",
   "execution_count": 9,
   "metadata": {},
   "outputs": [],
   "source": [
    "# Converts FlowBytes_s and FlowPackets_s to numeric columns\n",
    "df[['FlowBytes_s']] = df[['FlowBytes_s']].apply(pd.to_numeric)\n",
    "df[['FlowPackets_s']] = df[['FlowPackets_s']].apply(pd.to_numeric)"
   ]
  },
  {
   "cell_type": "code",
   "execution_count": 10,
   "metadata": {
    "scrolled": false
   },
   "outputs": [],
   "source": [
    "# Prints out the number of each unique item in each column\n",
    "# for i in df.columns:\n",
    "#     print(df[i].value_counts())\n",
    "#     print(\"\\n\")"
   ]
  },
  {
   "cell_type": "code",
   "execution_count": 11,
   "metadata": {},
   "outputs": [],
   "source": [
    "# # Making a correlation map\n",
    "# corr = df.corr()\n",
    "# plt.figure(figsize=(79, 79))\n",
    "# heatMap = sns.heatmap(\n",
    "#     corr,\n",
    "#     vmin = -1, vmax = 1, center = 0,\n",
    "#     annot=True,\n",
    "#     cmap=sns.diverging_palette(20, 220, n=200),\n",
    "#     square=True\n",
    "# )"
   ]
  },
  {
   "cell_type": "code",
   "execution_count": 12,
   "metadata": {
    "scrolled": false
   },
   "outputs": [],
   "source": [
    "# # make a list of only the numerical columns of input\n",
    "# # so don't care about the string and Y outputs\n",
    "\n",
    "# olist = list(df.columns) # original list\n",
    "# yvlist = list(['Label']) # y variable list\n",
    "\n",
    "# # make a new list of only the values I want to compare\n",
    "# xvlist = [x for x in olist if x not in yvlist]\n",
    "\n",
    "# fcol = 5 # limit five graphs per row for easy visualization\n",
    "# frow = int(np.ceil(len(xvlist)/fcol)) # number of rows in your subplot\n",
    "# fhgt = frow*4.5 # set how tall you want the subplot, 4.5 per row seems chill\n",
    "\n",
    "# # Set up the matplotlib figure\n",
    "# f, axes = plt.subplots(frow, fcol, figsize=(18, fhgt), sharey=True) #maybe mess around with auto generate figsize?\n",
    "# sns.despine(left=True)\n",
    "\n",
    "# # make a list of items to iterate over to produce graph\n",
    "# axes_list = [item for sublist in axes for item in sublist]\n",
    "\n",
    "# for k, xvar in enumerate(xvlist):\n",
    "    \n",
    "#     sns.regplot(\n",
    "#         x=xvar, \n",
    "#         y='Label', \n",
    "#         data=df, \n",
    "#         ax=axes_list[k],\n",
    "#         ci = None, # set the confidence interval to none, so no resampling\n",
    "#         logx=False,\n",
    "#         scatter_kws={'color': 'xkcd:cerulean'}, # using xkcd color codes, https://xkcd.com/color/rgb/\n",
    "#         line_kws={'color': '#840000'} # using hex color codes\n",
    "#     )\n",
    "\n",
    "# plt.tight_layout()"
   ]
  },
  {
   "cell_type": "code",
   "execution_count": 13,
   "metadata": {
    "scrolled": false
   },
   "outputs": [
    {
     "name": "stdout",
     "output_type": "stream",
     "text": [
      "MSE:  6.435426433710754e-14\n"
     ]
    }
   ],
   "source": [
    "tmp = df[['DestinationPort', 'FlowDuration', 'TotalFwdPackets',\n",
    "   'TotalBackwardPackets', 'TotalLengthofFwdPackets',\n",
    "   'TotalLengthofBwdPackets', 'FwdPacketLengthMax', 'FwdPacketLengthMin',\n",
    "   'FwdPacketLengthMean', 'FwdPacketLengthStd', 'BwdPacketLengthMax',\n",
    "   'BwdPacketLengthMin', 'BwdPacketLengthMean', 'BwdPacketLengthStd',\n",
    "   'FlowBytes_s', 'FlowPackets_s', 'FlowIATMean', 'FlowIATStd',\n",
    "   'FlowIATMax', 'FlowIATMin', 'FwdIATTotal', 'FwdIATMean', 'FwdIATStd',\n",
    "   'FwdIATMax', 'FwdIATMin', 'BwdIATTotal', 'BwdIATMean', 'BwdIATStd',\n",
    "   'BwdIATMax', 'BwdIATMin', 'FwdPSHFlags', 'BwdPSHFlags', 'FwdURGFlags',\n",
    "   'BwdURGFlags', 'FwdHeaderLength', 'BwdHeaderLength', 'FwdPackets_s',\n",
    "   'BwdPackets_s', 'MinPacketLength', 'MaxPacketLength',\n",
    "   'PacketLengthMean', 'PacketLengthStd', 'PacketLengthVariance',\n",
    "   'FINFlagCount', 'SYNFlagCount', 'RSTFlagCount', 'PSHFlagCount',\n",
    "   'ACKFlagCount', 'URGFlagCount', 'CWEFlagCount', 'ECEFlagCount',\n",
    "   'Down/UpRatio', 'AveragePacketSize', 'AvgFwdSegmentSize',\n",
    "   'AvgBwdSegmentSize', 'FwdHeaderLength.1', 'FwdAvgBytes/Bulk',\n",
    "   'FwdAvgPackets/Bulk', 'FwdAvgBulkRate', 'BwdAvgBytes/Bulk',\n",
    "   'BwdAvgPackets/Bulk', 'BwdAvgBulkRate', 'SubflowFwdPackets',\n",
    "   'SubflowFwdBytes', 'SubflowBwdPackets', 'SubflowBwdBytes',\n",
    "   'Init_Win_bytes_forward', 'Init_Win_bytes_backward', 'act_data_pkt_fwd',\n",
    "   'min_seg_size_forward', 'ActiveMean', 'ActiveStd', 'ActiveMax',\n",
    "   'ActiveMin', 'IdleMean', 'IdleStd', 'IdleMax', 'IdleMin', 'Label']]\n",
    "Y = df.Label\n",
    "X = df.iloc[:,:-1]\n",
    "xtrainDF, xtestDF, ytrainDF, ytestDF = train_test_split(X, Y, test_size=0.4, random_state=10)\n",
    "lreg = linear_model.LinearRegression()\n",
    "lfit = lreg.fit(xtrainDF, ytrainDF)\n",
    "prediction_of_test = lfit.predict(xtestDF)\n",
    "MSE = (np.sqrt(sklearn.metrics.mean_squared_error(ytestDF, prediction_of_test)))\n",
    "print(\"MSE: \", MSE)"
   ]
  },
  {
   "cell_type": "code",
   "execution_count": 16,
   "metadata": {},
   "outputs": [
    {
     "name": "stdout",
     "output_type": "stream",
     "text": [
      "0\n",
      "1\n",
      "2\n",
      "3\n",
      "4\n",
      "5\n",
      "6\n",
      "7\n",
      "8\n",
      "9\n",
      "10\n",
      "11\n",
      "12\n",
      "13\n",
      "14\n",
      "15\n",
      "16\n",
      "17\n",
      "18\n",
      "19\n",
      "20\n",
      "21\n",
      "22\n",
      "23\n",
      "24\n",
      "25\n",
      "26\n",
      "27\n",
      "28\n",
      "29\n",
      "30\n",
      "31\n",
      "32\n",
      "33\n",
      "34\n",
      "35\n",
      "36\n",
      "37\n",
      "38\n",
      "39\n",
      "40\n",
      "41\n",
      "42\n",
      "43\n",
      "44\n",
      "45\n",
      "46\n",
      "47\n",
      "48\n",
      "49\n",
      "50\n",
      "51\n",
      "52\n",
      "53\n",
      "54\n",
      "55\n",
      "56\n",
      "57\n",
      "58\n",
      "59\n",
      "60\n",
      "61\n",
      "62\n",
      "63\n",
      "64\n",
      "65\n",
      "66\n",
      "67\n",
      "68\n",
      "69\n",
      "70\n",
      "71\n",
      "72\n",
      "73\n",
      "74\n",
      "75\n",
      "76\n",
      "77\n"
     ]
    }
   ],
   "source": [
    "def fit_model(df_data, df_label):\n",
    "    xtrainDF, xtestDF, ytrainDF, ytestDF = train_test_split(df_data, df_label, test_size=0.4, random_state=10)\n",
    "    lreg = linear_model.LinearRegression()\n",
    "    lfit = lreg.fit(xtrainDF, ytrainDF)\n",
    "    prediction_of_test = lfit.predict(xtestDF)\n",
    "    return (np.sqrt(sklearn.metrics.mean_squared_error(ytestDF, prediction_of_test)))\n",
    "\n",
    "def traverse_df(df_data, df_label):\n",
    "    tmp_mse1, tmp_mse2 = fit_model(df_data, df_label), None\n",
    "    tmp_df_data = df_data\n",
    "    for i in df_data:\n",
    "        tmp_mse2 = fit_model(df_data.drop(i, axis = 1), df_label)\n",
    "        if tmp_mse2 < tmp_mse1:\n",
    "            tmp_mse1 = tmp_mse2\n",
    "            tmp_df = df_data.drop(i, axis = 1)\n",
    "    return tmp_mse1, tmp_df\n",
    "\n",
    "\n",
    "\n",
    "\n",
    "df_label = df.Label\n",
    "df_data = df.iloc[:,:-1]\n",
    "MSE_list = {}\n",
    "MSE_list[fit_model(df_data, df_label)] = df_data\n",
    "j = 0\n",
    "for i in df_data:\n",
    "    print(j)\n",
    "    j = j + 1\n",
    "    final_MSE = 404\n",
    "    final_DF = None\n",
    "    MSE, new_df = traverse_df(df_data.drop(i, axis = 1), df_label)\n",
    "    while True:\n",
    "        if MSE < final_MSE:\n",
    "            final_MSE = MSE\n",
    "            final_df = df_data.drop(i, axis = 1)\n",
    "        else:\n",
    "            break\n",
    "    MSE_list[final_MSE] = final_DF"
   ]
  },
  {
   "cell_type": "code",
   "execution_count": null,
   "metadata": {},
   "outputs": [],
   "source": []
  }
 ],
 "metadata": {
  "kernelspec": {
   "display_name": "Python 3",
   "language": "python",
   "name": "python3"
  },
  "language_info": {
   "codemirror_mode": {
    "name": "ipython",
    "version": 3
   },
   "file_extension": ".py",
   "mimetype": "text/x-python",
   "name": "python",
   "nbconvert_exporter": "python",
   "pygments_lexer": "ipython3",
   "version": "3.7.4"
  }
 },
 "nbformat": 4,
 "nbformat_minor": 2
}
