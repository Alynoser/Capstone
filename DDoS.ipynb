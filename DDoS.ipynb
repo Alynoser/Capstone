{
 "cells": [
  {
   "cell_type": "code",
   "execution_count": 1,
   "metadata": {},
   "outputs": [],
   "source": [
    "import pandas as pd\n",
    "import numpy as np\n",
    "import matplotlib\n",
    "import matplotlib.pyplot as plt\n",
    "import seaborn as sns\n",
    "# %matplotlib inline\n",
    "import sklearn\n",
    "from sklearn import datasets, linear_model, model_selection\n",
    "from sklearn.model_selection import train_test_split\n",
    "from sklearn.tree import DecisionTreeClassifier\n",
    "from sklearn.linear_model import Ridge, Lasso\n",
    "from sklearn.model_selection import cross_val_score\n",
    "from sklearn.model_selection import cross_validate\n",
    "from sklearn.metrics import recall_score\n",
    "import os\n",
    "pd.options.display.max_rows = 10\n",
    "pd.options.display.max_columns = 10"
   ]
  },
  {
   "cell_type": "code",
   "execution_count": 2,
   "metadata": {},
   "outputs": [],
   "source": [
    "# Loading in Excel doc into a Dataframe\n",
    "notebook_path = os.path.abspath(\"DataAnalysis.ipynb\")\n",
    "temp = os.path.abspath(\"Data\")\n",
    "df = pd.read_csv(temp + \"\\\\Friday-WorkingHours-Afternoon-DDos.pcap_ISCX.csv\", low_memory = False)"
   ]
  },
  {
   "cell_type": "code",
   "execution_count": 3,
   "metadata": {},
   "outputs": [],
   "source": [
    "# Edits the Column Names\n",
    "df.columns = df.columns.str.replace(' ', '')\n",
    "df.columns = df.columns.str.replace('/s', '_s')"
   ]
  },
  {
   "cell_type": "code",
   "execution_count": 4,
   "metadata": {},
   "outputs": [],
   "source": [
    "# Changes BENIGN and DDoS into 0 and 1 respectively so they can be plotted\n",
    "df.Label = df.Label.replace('BENIGN', 0)\n",
    "df.Label = df.Label.replace('DDoS', 1)"
   ]
  },
  {
   "cell_type": "code",
   "execution_count": 5,
   "metadata": {
    "scrolled": true
   },
   "outputs": [],
   "source": [
    "# Moves Label to the front of the list\n",
    "df = df[['Label', 'DestinationPort', 'FlowDuration', 'TotalFwdPackets',\n",
    "       'TotalBackwardPackets', 'TotalLengthofFwdPackets',\n",
    "       'TotalLengthofBwdPackets', 'FwdPacketLengthMax', 'FwdPacketLengthMin',\n",
    "       'FwdPacketLengthMean', 'FwdPacketLengthStd', 'BwdPacketLengthMax',\n",
    "       'BwdPacketLengthMin', 'BwdPacketLengthMean', 'BwdPacketLengthStd',\n",
    "       'FlowBytes_s', 'FlowPackets_s', 'FlowIATMean', 'FlowIATStd',\n",
    "       'FlowIATMax', 'FlowIATMin', 'FwdIATTotal', 'FwdIATMean', 'FwdIATStd',\n",
    "       'FwdIATMax', 'FwdIATMin', 'BwdIATTotal', 'BwdIATMean', 'BwdIATStd',\n",
    "       'BwdIATMax', 'BwdIATMin', 'FwdPSHFlags', 'BwdPSHFlags', 'FwdURGFlags',\n",
    "       'BwdURGFlags', 'FwdHeaderLength', 'BwdHeaderLength', 'FwdPackets_s',\n",
    "       'BwdPackets_s', 'MinPacketLength', 'MaxPacketLength',\n",
    "       'PacketLengthMean', 'PacketLengthStd', 'PacketLengthVariance',\n",
    "       'FINFlagCount', 'SYNFlagCount', 'RSTFlagCount', 'PSHFlagCount',\n",
    "       'ACKFlagCount', 'URGFlagCount', 'CWEFlagCount', 'ECEFlagCount',\n",
    "       'Down/UpRatio', 'AveragePacketSize', 'AvgFwdSegmentSize',\n",
    "       'AvgBwdSegmentSize', 'FwdHeaderLength.1', 'FwdAvgBytes/Bulk',\n",
    "       'FwdAvgPackets/Bulk', 'FwdAvgBulkRate', 'BwdAvgBytes/Bulk',\n",
    "       'BwdAvgPackets/Bulk', 'BwdAvgBulkRate', 'SubflowFwdPackets',\n",
    "       'SubflowFwdBytes', 'SubflowBwdPackets', 'SubflowBwdBytes',\n",
    "       'Init_Win_bytes_forward', 'Init_Win_bytes_backward', 'act_data_pkt_fwd',\n",
    "       'min_seg_size_forward', 'ActiveMean', 'ActiveStd', 'ActiveMax',\n",
    "       'ActiveMin', 'IdleMean', 'IdleStd', 'IdleMax', 'IdleMin']]"
   ]
  },
  {
   "cell_type": "code",
   "execution_count": 6,
   "metadata": {
    "scrolled": true
   },
   "outputs": [],
   "source": [
    "# df.dtypes\n",
    "# df.columns"
   ]
  },
  {
   "cell_type": "code",
   "execution_count": 7,
   "metadata": {},
   "outputs": [],
   "source": [
    "#Drops any rows with NA\n",
    "df.dropna(how = 'any', subset = ['Label', 'DestinationPort', 'FlowDuration', 'TotalFwdPackets',\n",
    "       'TotalBackwardPackets', 'TotalLengthofFwdPackets',\n",
    "       'TotalLengthofBwdPackets', 'FwdPacketLengthMax', 'FwdPacketLengthMin',\n",
    "       'FwdPacketLengthMean', 'FwdPacketLengthStd', 'BwdPacketLengthMax',\n",
    "       'BwdPacketLengthMin', 'BwdPacketLengthMean', 'BwdPacketLengthStd',\n",
    "       'FlowBytes_s', 'FlowPackets_s', 'FlowIATMean', 'FlowIATStd',\n",
    "       'FlowIATMax', 'FlowIATMin', 'FwdIATTotal', 'FwdIATMean', 'FwdIATStd',\n",
    "       'FwdIATMax', 'FwdIATMin', 'BwdIATTotal', 'BwdIATMean', 'BwdIATStd',\n",
    "       'BwdIATMax', 'BwdIATMin', 'FwdPSHFlags', 'BwdPSHFlags', 'FwdURGFlags',\n",
    "       'BwdURGFlags', 'FwdHeaderLength', 'BwdHeaderLength', 'FwdPackets_s',\n",
    "       'BwdPackets_s', 'MinPacketLength', 'MaxPacketLength',\n",
    "       'PacketLengthMean', 'PacketLengthStd', 'PacketLengthVariance',\n",
    "       'FINFlagCount', 'SYNFlagCount', 'RSTFlagCount', 'PSHFlagCount',\n",
    "       'ACKFlagCount', 'URGFlagCount', 'CWEFlagCount', 'ECEFlagCount',\n",
    "       'Down/UpRatio', 'AveragePacketSize', 'AvgFwdSegmentSize',\n",
    "       'AvgBwdSegmentSize', 'FwdHeaderLength.1', 'FwdAvgBytes/Bulk',\n",
    "       'FwdAvgPackets/Bulk', 'FwdAvgBulkRate', 'BwdAvgBytes/Bulk',\n",
    "       'BwdAvgPackets/Bulk', 'BwdAvgBulkRate', 'SubflowFwdPackets',\n",
    "       'SubflowFwdBytes', 'SubflowBwdPackets', 'SubflowBwdBytes',\n",
    "       'Init_Win_bytes_forward', 'Init_Win_bytes_backward', 'act_data_pkt_fwd',\n",
    "       'min_seg_size_forward', 'ActiveMean', 'ActiveStd', 'ActiveMax',\n",
    "       'ActiveMin', 'IdleMean', 'IdleStd', 'IdleMax', 'IdleMin'], inplace = True)"
   ]
  },
  {
   "cell_type": "code",
   "execution_count": 8,
   "metadata": {},
   "outputs": [],
   "source": [
    "# Removing infinity columns from FlowBytes and FlowPackets\n",
    "df = df[~df.FlowBytes_s.str.startswith('Infinity')]\n",
    "df = df[~df.FlowPackets_s.str.startswith('Infinity')]"
   ]
  },
  {
   "cell_type": "code",
   "execution_count": 9,
   "metadata": {},
   "outputs": [],
   "source": [
    "# Converts FlowBytes_s and FlowPackets_s to numeric columns\n",
    "df[['FlowBytes_s']] = df[['FlowBytes_s']].apply(pd.to_numeric)\n",
    "df[['FlowPackets_s']] = df[['FlowPackets_s']].apply(pd.to_numeric)"
   ]
  },
  {
   "cell_type": "code",
   "execution_count": 10,
   "metadata": {
    "scrolled": false
   },
   "outputs": [],
   "source": [
    "# Prints out the number of each unique item in each column\n",
    "# for i in df.columns:\n",
    "#     print(df[i].value_counts())\n",
    "#     print(\"\\n\")"
   ]
  },
  {
   "cell_type": "code",
   "execution_count": 11,
   "metadata": {},
   "outputs": [],
   "source": [
    "# # Making a correlation map\n",
    "# corr = df.corr()\n",
    "# plt.figure(figsize=(79, 79))\n",
    "# heatMap = sns.heatmap(\n",
    "#     corr,\n",
    "#     vmin = -1, vmax = 1, center = 0,\n",
    "#     annot=True,\n",
    "#     cmap=sns.diverging_palette(20, 220, n=200),\n",
    "#     square=True\n",
    "# )"
   ]
  },
  {
   "cell_type": "code",
   "execution_count": 12,
   "metadata": {
    "scrolled": false
   },
   "outputs": [],
   "source": [
    "# # make a list of only the numerical columns of input\n",
    "# # so don't care about the string and Y outputs\n",
    "\n",
    "# olist = list(df.columns) # original list\n",
    "# yvlist = list(['Label']) # y variable list\n",
    "\n",
    "# # make a new list of only the values I want to compare\n",
    "# xvlist = [x for x in olist if x not in yvlist]\n",
    "\n",
    "# fcol = 5 # limit five graphs per row for easy visualization\n",
    "# frow = int(np.ceil(len(xvlist)/fcol)) # number of rows in your subplot\n",
    "# fhgt = frow*4.5 # set how tall you want the subplot, 4.5 per row seems chill\n",
    "\n",
    "# # Set up the matplotlib figure\n",
    "# f, axes = plt.subplots(frow, fcol, figsize=(18, fhgt), sharey=True) #maybe mess around with auto generate figsize?\n",
    "# sns.despine(left=True)\n",
    "\n",
    "# # make a list of items to iterate over to produce graph\n",
    "# axes_list = [item for sublist in axes for item in sublist]\n",
    "\n",
    "# for k, xvar in enumerate(xvlist):\n",
    "    \n",
    "#     sns.regplot(\n",
    "#         x=xvar, \n",
    "#         y='Label', \n",
    "#         data=df, \n",
    "#         ax=axes_list[k],\n",
    "#         ci = None, # set the confidence interval to none, so no resampling\n",
    "#         logx=False,\n",
    "#         scatter_kws={'color': 'xkcd:cerulean'}, # using xkcd color codes, https://xkcd.com/color/rgb/\n",
    "#         line_kws={'color': '#840000'} # using hex color codes\n",
    "#     )\n",
    "\n",
    "# plt.tight_layout()"
   ]
  },
  {
   "cell_type": "code",
   "execution_count": null,
   "metadata": {},
   "outputs": [],
   "source": []
  }
 ],
 "metadata": {
  "kernelspec": {
   "display_name": "Python 3",
   "language": "python",
   "name": "python3"
  },
  "language_info": {
   "codemirror_mode": {
    "name": "ipython",
    "version": 3
   },
   "file_extension": ".py",
   "mimetype": "text/x-python",
   "name": "python",
   "nbconvert_exporter": "python",
   "pygments_lexer": "ipython3",
   "version": "3.7.4"
  }
 },
 "nbformat": 4,
 "nbformat_minor": 2
}
