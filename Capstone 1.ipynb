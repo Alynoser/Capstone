{
 "cells": [
  {
   "cell_type": "code",
   "execution_count": 1,
   "metadata": {},
   "outputs": [],
   "source": [
    "import pandas as pd\n",
    "import numpy as np\n",
    "import matplotlib\n",
    "import matplotlib.pyplot as plt\n",
    "import seaborn as sns\n",
    "# %matplotlib inline\n",
    "import sklearn\n",
    "from sklearn import datasets, linear_model, model_selection\n",
    "from sklearn.model_selection import train_test_split\n",
    "from sklearn.tree import DecisionTreeClassifier\n",
    "from sklearn.linear_model import Ridge, Lasso\n",
    "from sklearn.model_selection import cross_val_score\n",
    "from sklearn.model_selection import cross_validate\n",
    "from sklearn.metrics import recall_score\n",
    "import os\n",
    "pd.options.display.max_rows = 100\n",
    "pd.options.display.max_seq_items = 100"
   ]
  },
  {
   "cell_type": "code",
   "execution_count": 2,
   "metadata": {
    "scrolled": false
   },
   "outputs": [],
   "source": [
    "notebook_path = os.path.abspath(\"Capstone 1.ipynb\")\n",
    "temp = os.path.abspath(\"Data\")\n",
    "exc1 = temp + \"\\\\Friday-WorkingHours-Afternoon-DDos.pcap_ISCX.csv\"\n",
    "exc2 = temp + \"\\\\Friday-WorkingHours-Afternoon-PortScan.pcap_ISCX.csv\"\n",
    "exc3 = temp + \"\\\\Friday-WorkingHours-Morning.pcap_ISCX.csv\"\n",
    "exc4 = temp + \"\\\\Monday-WorkingHours.pcap_ISCX.csv\"\n",
    "exc5 = temp + \"\\\\Thursday-WorkingHours-Afternoon-Infilteration.pcap_ISCX.csv\"\n",
    "exc6 = temp + \"\\\\Thursday-WorkingHours-Morning-WebAttacks.pcap_ISCX.csv\"\n",
    "exc7 = temp + \"\\\\Tuesday-WorkingHours.pcap_ISCX.csv\"\n",
    "exc8 = temp + \"\\\\Wednesday-workingHours.pcap_ISCX.csv\""
   ]
  },
  {
   "cell_type": "code",
   "execution_count": 3,
   "metadata": {},
   "outputs": [],
   "source": [
    "df1 = pd.read_csv(exc1, low_memory = False)"
   ]
  },
  {
   "cell_type": "code",
   "execution_count": 4,
   "metadata": {},
   "outputs": [],
   "source": [
    "df2 = pd.read_csv(exc2, low_memory = False)"
   ]
  },
  {
   "cell_type": "code",
   "execution_count": 5,
   "metadata": {},
   "outputs": [],
   "source": [
    "df3 = pd.read_csv(exc3, low_memory = False)"
   ]
  },
  {
   "cell_type": "code",
   "execution_count": 6,
   "metadata": {},
   "outputs": [],
   "source": [
    "df4 = pd.read_csv(exc4, low_memory = False)"
   ]
  },
  {
   "cell_type": "code",
   "execution_count": 7,
   "metadata": {},
   "outputs": [],
   "source": [
    "df5 = pd.read_csv(exc5, low_memory = False)"
   ]
  },
  {
   "cell_type": "code",
   "execution_count": 8,
   "metadata": {},
   "outputs": [],
   "source": [
    "df6 = pd.read_csv(exc6, low_memory = False)"
   ]
  },
  {
   "cell_type": "code",
   "execution_count": 9,
   "metadata": {},
   "outputs": [],
   "source": [
    "df7 = pd.read_csv(exc7, low_memory = False)"
   ]
  },
  {
   "cell_type": "code",
   "execution_count": 10,
   "metadata": {},
   "outputs": [],
   "source": [
    "df8 = pd.read_csv(exc8, low_memory = False)"
   ]
  },
  {
   "cell_type": "code",
   "execution_count": 11,
   "metadata": {},
   "outputs": [],
   "source": [
    "# Combine dataframes together\n",
    "df = df1.append(df2)\n",
    "df = df.append(df3)\n",
    "df = df.append(df4)\n",
    "df = df.append(df5)\n",
    "df = df.append(df6)\n",
    "df = df.append(df7)\n",
    "df = df.append(df8)"
   ]
  },
  {
   "cell_type": "code",
   "execution_count": 12,
   "metadata": {
    "scrolled": false
   },
   "outputs": [],
   "source": [
    "df.columns = df.columns.str.replace(' ', '')\n",
    "# df\n",
    "# df.count()"
   ]
  },
  {
   "cell_type": "code",
   "execution_count": 13,
   "metadata": {},
   "outputs": [],
   "source": [
    "# df.isna().sum()"
   ]
  },
  {
   "cell_type": "code",
   "execution_count": 14,
   "metadata": {},
   "outputs": [
    {
     "data": {
      "text/plain": [
       "BENIGN                        2273097\n",
       "DoS Hulk                       231073\n",
       "PortScan                       158930\n",
       "DDoS                           128027\n",
       "DoS GoldenEye                   10293\n",
       "FTP-Patator                      7938\n",
       "SSH-Patator                      5897\n",
       "DoS slowloris                    5796\n",
       "DoS Slowhttptest                 5499\n",
       "Bot                              1966\n",
       "Web Attack � Brute Force         1507\n",
       "Web Attack � XSS                  652\n",
       "Infiltration                       36\n",
       "Web Attack � Sql Injection         21\n",
       "Heartbleed                         11\n",
       "Name: Label, dtype: int64"
      ]
     },
     "execution_count": 14,
     "metadata": {},
     "output_type": "execute_result"
    }
   ],
   "source": [
    "# Count labels before dropping them\n",
    "df.Label.value_counts()"
   ]
  },
  {
   "cell_type": "code",
   "execution_count": 15,
   "metadata": {},
   "outputs": [],
   "source": [
    "# As per our project plan, we dropped any attack that had below 5k instances\n",
    "df = df[df.Label != 'Bot']\n",
    "df = df[df.Label != 'Web Attack � Brute Force']\n",
    "df = df[df.Label != 'Web Attack � XSS']\n",
    "df = df[df.Label != 'Infiltration']\n",
    "df = df[df.Label != 'Web Attack � Sql Injection']\n",
    "df = df[df.Label != 'Heartbleed']\n",
    "\n",
    "\n",
    "# Do not want to delete NaN values. All NaN values are in the Flow Bytes column, first check to see if we need this column at all.\n",
    "\n",
    "# df.dropna(how = 'any', subset=['DestinationPort', 'FlowDuration', 'TotalFwdPackets',\n",
    "#        'TotalBackwardPackets', 'TotalLengthofFwdPackets',\n",
    "#        'TotalLengthofBwdPackets', 'FwdPacketLengthMax', 'FwdPacketLengthMin',\n",
    "#        'FwdPacketLengthMean', 'FwdPacketLengthStd', 'BwdPacketLengthMax',\n",
    "#        'BwdPacketLengthMin', 'BwdPacketLengthMean', 'BwdPacketLengthStd',\n",
    "#        'FlowBytes/s', 'FlowPackets/s', 'FlowIATMean', 'FlowIATStd',\n",
    "#        'FlowIATMax', 'FlowIATMin', 'FwdIATTotal', 'FwdIATMean', 'FwdIATStd',\n",
    "#        'FwdIATMax', 'FwdIATMin', 'BwdIATTotal', 'BwdIATMean', 'BwdIATStd',\n",
    "#        'BwdIATMax', 'BwdIATMin', 'FwdPSHFlags', 'BwdPSHFlags', 'FwdURGFlags',\n",
    "#        'BwdURGFlags', 'FwdHeaderLength', 'BwdHeaderLength', 'FwdPackets/s',\n",
    "#        'BwdPackets/s', 'MinPacketLength', 'MaxPacketLength',\n",
    "#        'PacketLengthMean', 'PacketLengthStd', 'PacketLengthVariance',\n",
    "#        'FINFlagCount', 'SYNFlagCount', 'RSTFlagCount', 'PSHFlagCount',\n",
    "#        'ACKFlagCount', 'URGFlagCount', 'CWEFlagCount', 'ECEFlagCount',\n",
    "#        'Down/UpRatio', 'AveragePacketSize', 'AvgFwdSegmentSize',\n",
    "#        'AvgBwdSegmentSize', 'FwdHeaderLength.1', 'FwdAvgBytes/Bulk',\n",
    "#        'FwdAvgPackets/Bulk', 'FwdAvgBulkRate', 'BwdAvgBytes/Bulk',\n",
    "#        'BwdAvgPackets/Bulk', 'BwdAvgBulkRate', 'SubflowFwdPackets',\n",
    "#        'SubflowFwdBytes', 'SubflowBwdPackets', 'SubflowBwdBytes',\n",
    "#        'Init_Win_bytes_forward', 'Init_Win_bytes_backward', 'act_data_pkt_fwd',\n",
    "#        'min_seg_size_forward', 'ActiveMean', 'ActiveStd', 'ActiveMax',\n",
    "#        'ActiveMin', 'IdleMean', 'IdleStd', 'IdleMax', 'IdleMin', 'Label'], inplace = True)\n",
    "\n",
    "# df"
   ]
  },
  {
   "cell_type": "code",
   "execution_count": 16,
   "metadata": {},
   "outputs": [],
   "source": [
    "# df.Label.value_counts()"
   ]
  },
  {
   "cell_type": "code",
   "execution_count": 17,
   "metadata": {},
   "outputs": [],
   "source": [
    "df = df[['Label', 'DestinationPort', 'FlowDuration', 'TotalFwdPackets',\n",
    "       'TotalBackwardPackets', 'TotalLengthofFwdPackets',\n",
    "       'TotalLengthofBwdPackets', 'FwdPacketLengthMax', 'FwdPacketLengthMin',\n",
    "       'FwdPacketLengthMean', 'FwdPacketLengthStd', 'BwdPacketLengthMax',\n",
    "       'BwdPacketLengthMin', 'BwdPacketLengthMean', 'BwdPacketLengthStd',\n",
    "       'FlowBytes/s', 'FlowPackets/s', 'FlowIATMean', 'FlowIATStd',\n",
    "       'FlowIATMax', 'FlowIATMin', 'FwdIATTotal', 'FwdIATMean', 'FwdIATStd',\n",
    "       'FwdIATMax', 'FwdIATMin', 'BwdIATTotal', 'BwdIATMean', 'BwdIATStd',\n",
    "       'BwdIATMax', 'BwdIATMin', 'FwdPSHFlags', 'BwdPSHFlags', 'FwdURGFlags',\n",
    "       'BwdURGFlags', 'FwdHeaderLength', 'BwdHeaderLength', 'FwdPackets/s',\n",
    "       'BwdPackets/s', 'MinPacketLength', 'MaxPacketLength',\n",
    "       'PacketLengthMean', 'PacketLengthStd', 'PacketLengthVariance',\n",
    "       'FINFlagCount', 'SYNFlagCount', 'RSTFlagCount', 'PSHFlagCount',\n",
    "       'ACKFlagCount', 'URGFlagCount', 'CWEFlagCount', 'ECEFlagCount',\n",
    "       'Down/UpRatio', 'AveragePacketSize', 'AvgFwdSegmentSize',\n",
    "       'AvgBwdSegmentSize', 'FwdHeaderLength.1', 'FwdAvgBytes/Bulk',\n",
    "       'FwdAvgPackets/Bulk', 'FwdAvgBulkRate', 'BwdAvgBytes/Bulk',\n",
    "       'BwdAvgPackets/Bulk', 'BwdAvgBulkRate', 'SubflowFwdPackets',\n",
    "       'SubflowFwdBytes', 'SubflowBwdPackets', 'SubflowBwdBytes',\n",
    "       'Init_Win_bytes_forward', 'Init_Win_bytes_backward', 'act_data_pkt_fwd',\n",
    "       'min_seg_size_forward', 'ActiveMean', 'ActiveStd', 'ActiveMax',\n",
    "       'ActiveMin', 'IdleMean', 'IdleStd', 'IdleMax', 'IdleMin']]"
   ]
  },
  {
   "cell_type": "code",
   "execution_count": 18,
   "metadata": {},
   "outputs": [],
   "source": [
    "ben = df[df.Label == 'BENIGN']\n",
    "dos_h = df[df.Label == 'DoS Hulk']\n",
    "p_scan = df[df.Label == 'PortScan']\n",
    "ddos = df[df.Label == 'DDoS']\n",
    "dos_ge = df[df.Label == 'DoS GoldenEye']\n",
    "ftp_pat = df[df.Label == 'FTP-Patator']\n",
    "ssh_pat = df[df.Label == 'SSH-Patator']\n",
    "dos_slowloris = df[df.Label == 'DoS slowloris']\n",
    "dos_slowhttp = df[df.Label == 'DoS Slowhttptest']"
   ]
  },
  {
   "cell_type": "code",
   "execution_count": 19,
   "metadata": {},
   "outputs": [],
   "source": [
    "# olist = list(ben.columns) # original list\n",
    "# yvlist = list(['Label']) # y variable list\n",
    "\n",
    "# # make a new list of only the values I want to compare\n",
    "# xlist = [x for x in olist if x not in yvlist]\n",
    "\n",
    "# fig = plt.figure(figsize=(20, 25))\n",
    "# plotNum = 1\n",
    "# for key in xlist:\n",
    "#     ax = plt.subplot(6, 3, plotNum)\n",
    "#     ax.scatter(x=ben[key], y=ben['Label'])\n",
    "#     ax.set_xlabel(key)\n",
    "#     ax.set_ylabel('Label')\n",
    "#     plotNum = plotNum + 1"
   ]
  },
  {
   "cell_type": "code",
   "execution_count": 20,
   "metadata": {},
   "outputs": [],
   "source": [
    "# # Making a correlation map\n",
    "# corr = ben.corr()\n",
    "# plt.figure(figsize=(79, 79))\n",
    "# heatMap = sns.heatmap(\n",
    "#     corr,\n",
    "#     vmin = -1, vmax = 1, center = 0,\n",
    "#     annot=True,\n",
    "#     cmap=sns.diverging_palette(20, 220, n=200),\n",
    "#     square=True\n",
    "# )"
   ]
  },
  {
   "cell_type": "code",
   "execution_count": 30,
   "metadata": {},
   "outputs": [
    {
     "data": {
      "text/plain": [
       "Label                       object\n",
       "DestinationPort              int64\n",
       "FlowDuration                 int64\n",
       "TotalFwdPackets              int64\n",
       "TotalBackwardPackets         int64\n",
       "TotalLengthofFwdPackets      int64\n",
       "TotalLengthofBwdPackets      int64\n",
       "FwdPacketLengthMax           int64\n",
       "FwdPacketLengthMin           int64\n",
       "FwdPacketLengthMean        float64\n",
       "FwdPacketLengthStd         float64\n",
       "BwdPacketLengthMax           int64\n",
       "BwdPacketLengthMin           int64\n",
       "BwdPacketLengthMean        float64\n",
       "BwdPacketLengthStd         float64\n",
       "FlowBytes/s                 object\n",
       "FlowPackets/s               object\n",
       "FlowIATMean                float64\n",
       "FlowIATStd                 float64\n",
       "FlowIATMax                   int64\n",
       "FlowIATMin                   int64\n",
       "FwdIATTotal                  int64\n",
       "FwdIATMean                 float64\n",
       "FwdIATStd                  float64\n",
       "FwdIATMax                    int64\n",
       "FwdIATMin                    int64\n",
       "BwdIATTotal                  int64\n",
       "BwdIATMean                 float64\n",
       "BwdIATStd                  float64\n",
       "BwdIATMax                    int64\n",
       "BwdIATMin                    int64\n",
       "FwdPSHFlags                  int64\n",
       "BwdPSHFlags                  int64\n",
       "FwdURGFlags                  int64\n",
       "BwdURGFlags                  int64\n",
       "FwdHeaderLength              int64\n",
       "BwdHeaderLength              int64\n",
       "FwdPackets/s               float64\n",
       "BwdPackets/s               float64\n",
       "MinPacketLength              int64\n",
       "MaxPacketLength              int64\n",
       "PacketLengthMean           float64\n",
       "PacketLengthStd            float64\n",
       "PacketLengthVariance       float64\n",
       "FINFlagCount                 int64\n",
       "SYNFlagCount                 int64\n",
       "RSTFlagCount                 int64\n",
       "PSHFlagCount                 int64\n",
       "ACKFlagCount                 int64\n",
       "URGFlagCount                 int64\n",
       "CWEFlagCount                 int64\n",
       "ECEFlagCount                 int64\n",
       "Down/UpRatio                 int64\n",
       "AveragePacketSize          float64\n",
       "AvgFwdSegmentSize          float64\n",
       "AvgBwdSegmentSize          float64\n",
       "FwdHeaderLength.1            int64\n",
       "FwdAvgBytes/Bulk             int64\n",
       "FwdAvgPackets/Bulk           int64\n",
       "FwdAvgBulkRate               int64\n",
       "BwdAvgBytes/Bulk             int64\n",
       "BwdAvgPackets/Bulk           int64\n",
       "BwdAvgBulkRate               int64\n",
       "SubflowFwdPackets            int64\n",
       "SubflowFwdBytes              int64\n",
       "SubflowBwdPackets            int64\n",
       "SubflowBwdBytes              int64\n",
       "Init_Win_bytes_forward       int64\n",
       "Init_Win_bytes_backward      int64\n",
       "act_data_pkt_fwd             int64\n",
       "min_seg_size_forward         int64\n",
       "ActiveMean                 float64\n",
       "ActiveStd                  float64\n",
       "ActiveMax                    int64\n",
       "ActiveMin                    int64\n",
       "IdleMean                   float64\n",
       "IdleStd                    float64\n",
       "IdleMax                      int64\n",
       "IdleMin                      int64\n",
       "dtype: object"
      ]
     },
     "execution_count": 30,
     "metadata": {},
     "output_type": "execute_result"
    }
   ],
   "source": [
    "ben.dtypes"
   ]
  },
  {
   "cell_type": "code",
   "execution_count": null,
   "metadata": {},
   "outputs": [],
   "source": []
  }
 ],
 "metadata": {
  "kernelspec": {
   "display_name": "Python 3",
   "language": "python",
   "name": "python3"
  },
  "language_info": {
   "codemirror_mode": {
    "name": "ipython",
    "version": 3
   },
   "file_extension": ".py",
   "mimetype": "text/x-python",
   "name": "python",
   "nbconvert_exporter": "python",
   "pygments_lexer": "ipython3",
   "version": "3.7.4"
  }
 },
 "nbformat": 4,
 "nbformat_minor": 2
}
