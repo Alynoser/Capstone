{
 "cells": [
  {
   "cell_type": "code",
   "execution_count": 1,
   "metadata": {},
   "outputs": [],
   "source": [
    "import pandas as pd\n",
    "import numpy as np\n",
    "import matplotlib\n",
    "import matplotlib.pyplot as plt\n",
    "import seaborn as sns\n",
    "# %matplotlib inline\n",
    "import sklearn\n",
    "from sklearn import datasets, linear_model, model_selection\n",
    "from sklearn.model_selection import train_test_split\n",
    "from sklearn.tree import DecisionTreeClassifier\n",
    "from sklearn.linear_model import Ridge, Lasso\n",
    "from sklearn.model_selection import cross_val_score\n",
    "from sklearn.model_selection import cross_validate\n",
    "from sklearn.metrics import recall_score\n",
    "import os\n",
    "pd.options.display.max_rows = 100\n",
    "pd.options.display.max_seq_items = 100\n",
    "pd.options.display.max_columns = 100"
   ]
  },
  {
   "cell_type": "code",
   "execution_count": 2,
   "metadata": {
    "scrolled": false
   },
   "outputs": [],
   "source": [
    "notebook_path = os.path.abspath(\"DataAnalysis.ipynb\")\n",
    "temp = os.path.abspath(\"Data\")\n",
    "\n",
    "# Load in all of the relevant work sheets\n",
    "# We chose not to load in the worksheets that had attacks that we did not initially \n",
    "#    plan on modeling to save space and computation time\n",
    "\n",
    "df1 = pd.read_csv(temp + \"\\\\Friday-WorkingHours-Afternoon-DDos.pcap_ISCX.csv\", low_memory = False)\n",
    "df2 = pd.read_csv(temp + \"\\\\Friday-WorkingHours-Afternoon-PortScan.pcap_ISCX.csv\", low_memory = False)\n",
    "df3 = pd.read_csv(temp + \"\\\\Tuesday-WorkingHours.pcap_ISCX.csv\", low_memory = False)\n",
    "df4 = pd.read_csv(temp + \"\\\\Wednesday-workingHours.pcap_ISCX.csv\", low_memory = False)"
   ]
  },
  {
   "cell_type": "code",
   "execution_count": 3,
   "metadata": {},
   "outputs": [],
   "source": [
    "# Combine dataframes together\n",
    "df = df1.append(df2)\n",
    "df = df.append(df3)\n",
    "df = df.append(df4)"
   ]
  },
  {
   "cell_type": "code",
   "execution_count": 4,
   "metadata": {
    "scrolled": false
   },
   "outputs": [],
   "source": [
    "df.columns = df.columns.str.replace(' ', '')\n",
    "df1.columns = df.columns.str.replace(' ', '')\n",
    "df2.columns = df.columns.str.replace(' ', '')\n",
    "df3.columns = df.columns.str.replace(' ', '')\n",
    "df4.columns = df.columns.str.replace(' ', '')"
   ]
  },
  {
   "cell_type": "code",
   "execution_count": null,
   "metadata": {},
   "outputs": [],
   "source": [
    "df.isna().sum()\n",
    "# NULL VALUES IN COLUMN \"FlowBytes\":\n",
    "#         df2 = 15 , df3 = 201 , df4 = 1008\n",
    "#         TOTAL NaN ROWS: 1228"
   ]
  },
  {
   "cell_type": "code",
   "execution_count": 5,
   "metadata": {},
   "outputs": [
    {
     "name": "stdout",
     "output_type": "stream",
     "text": [
      "DF1\n",
      "DDoS      128027\n",
      "BENIGN     97718\n",
      "Name: Label, dtype: int64\n",
      "\n",
      "DF2\n",
      "PortScan    158930\n",
      "BENIGN      127537\n",
      "Name: Label, dtype: int64\n",
      "\n",
      "DF3\n",
      "BENIGN         432074\n",
      "FTP-Patator      7938\n",
      "SSH-Patator      5897\n",
      "Name: Label, dtype: int64\n",
      "\n",
      "DF4\n",
      "BENIGN              440031\n",
      "DoS Hulk            231073\n",
      "DoS GoldenEye        10293\n",
      "DoS slowloris         5796\n",
      "DoS Slowhttptest      5499\n",
      "Heartbleed              11\n",
      "Name: Label, dtype: int64\n"
     ]
    }
   ],
   "source": [
    "# Count labels before dropping them\n",
    "print(\"DF1\")\n",
    "print(df1.Label.value_counts())\n",
    "print(\"\\nDF2\")\n",
    "print(df2.Label.value_counts())\n",
    "print(\"\\nDF3\")\n",
    "print(df3.Label.value_counts())\n",
    "print(\"\\nDF4\")\n",
    "print(df4.Label.value_counts())"
   ]
  },
  {
   "cell_type": "code",
   "execution_count": null,
   "metadata": {},
   "outputs": [],
   "source": [
    "# As per our project plan, we dropped any attack that had below 5k instances\n",
    "df = df[df.Label != 'Heartbleed']\n",
    "\n",
    "\n",
    "# Do not want to delete NaN values. All NaN values are in the Flow Bytes column, first check to see if we need this column at all.\n",
    "\n",
    "# df.dropna(how = 'any', subset=['DestinationPort', 'FlowDuration', 'TotalFwdPackets',\n",
    "#        'TotalBackwardPackets', 'TotalLengthofFwdPackets',\n",
    "#        'TotalLengthofBwdPackets', 'FwdPacketLengthMax', 'FwdPacketLengthMin',\n",
    "#        'FwdPacketLengthMean', 'FwdPacketLengthStd', 'BwdPacketLengthMax',\n",
    "#        'BwdPacketLengthMin', 'BwdPacketLengthMean', 'BwdPacketLengthStd',\n",
    "#        'FlowBytes/s', 'FlowPackets/s', 'FlowIATMean', 'FlowIATStd',\n",
    "#        'FlowIATMax', 'FlowIATMin', 'FwdIATTotal', 'FwdIATMean', 'FwdIATStd',\n",
    "#        'FwdIATMax', 'FwdIATMin', 'BwdIATTotal', 'BwdIATMean', 'BwdIATStd',\n",
    "#        'BwdIATMax', 'BwdIATMin', 'FwdPSHFlags', 'BwdPSHFlags', 'FwdURGFlags',\n",
    "#        'BwdURGFlags', 'FwdHeaderLength', 'BwdHeaderLength', 'FwdPackets/s',\n",
    "#        'BwdPackets/s', 'MinPacketLength', 'MaxPacketLength',\n",
    "#        'PacketLengthMean', 'PacketLengthStd', 'PacketLengthVariance',\n",
    "#        'FINFlagCount', 'SYNFlagCount', 'RSTFlagCount', 'PSHFlagCount',\n",
    "#        'ACKFlagCount', 'URGFlagCount', 'CWEFlagCount', 'ECEFlagCount',\n",
    "#        'Down/UpRatio', 'AveragePacketSize', 'AvgFwdSegmentSize',\n",
    "#        'AvgBwdSegmentSize', 'FwdHeaderLength.1', 'FwdAvgBytes/Bulk',\n",
    "#        'FwdAvgPackets/Bulk', 'FwdAvgBulkRate', 'BwdAvgBytes/Bulk',\n",
    "#        'BwdAvgPackets/Bulk', 'BwdAvgBulkRate', 'SubflowFwdPackets',\n",
    "#        'SubflowFwdBytes', 'SubflowBwdPackets', 'SubflowBwdBytes',\n",
    "#        'Init_Win_bytes_forward', 'Init_Win_bytes_backward', 'act_data_pkt_fwd',\n",
    "#        'min_seg_size_forward', 'ActiveMean', 'ActiveStd', 'ActiveMax',\n",
    "#        'ActiveMin', 'IdleMean', 'IdleStd', 'IdleMax', 'IdleMin', 'Label'], inplace = True)\n",
    "\n",
    "# df"
   ]
  },
  {
   "cell_type": "code",
   "execution_count": null,
   "metadata": {},
   "outputs": [],
   "source": [
    "# df.Label.value_counts()"
   ]
  },
  {
   "cell_type": "code",
   "execution_count": null,
   "metadata": {},
   "outputs": [],
   "source": [
    "df = df[['Label', 'DestinationPort', 'FlowDuration', 'TotalFwdPackets',\n",
    "       'TotalBackwardPackets', 'TotalLengthofFwdPackets',\n",
    "       'TotalLengthofBwdPackets', 'FwdPacketLengthMax', 'FwdPacketLengthMin',\n",
    "       'FwdPacketLengthMean', 'FwdPacketLengthStd', 'BwdPacketLengthMax',\n",
    "       'BwdPacketLengthMin', 'BwdPacketLengthMean', 'BwdPacketLengthStd',\n",
    "       'FlowBytes/s', 'FlowPackets/s', 'FlowIATMean', 'FlowIATStd',\n",
    "       'FlowIATMax', 'FlowIATMin', 'FwdIATTotal', 'FwdIATMean', 'FwdIATStd',\n",
    "       'FwdIATMax', 'FwdIATMin', 'BwdIATTotal', 'BwdIATMean', 'BwdIATStd',\n",
    "       'BwdIATMax', 'BwdIATMin', 'FwdPSHFlags', 'BwdPSHFlags', 'FwdURGFlags',\n",
    "       'BwdURGFlags', 'FwdHeaderLength', 'BwdHeaderLength', 'FwdPackets/s',\n",
    "       'BwdPackets/s', 'MinPacketLength', 'MaxPacketLength',\n",
    "       'PacketLengthMean', 'PacketLengthStd', 'PacketLengthVariance',\n",
    "       'FINFlagCount', 'SYNFlagCount', 'RSTFlagCount', 'PSHFlagCount',\n",
    "       'ACKFlagCount', 'URGFlagCount', 'CWEFlagCount', 'ECEFlagCount',\n",
    "       'Down/UpRatio', 'AveragePacketSize', 'AvgFwdSegmentSize',\n",
    "       'AvgBwdSegmentSize', 'FwdHeaderLength.1', 'FwdAvgBytes/Bulk',\n",
    "       'FwdAvgPackets/Bulk', 'FwdAvgBulkRate', 'BwdAvgBytes/Bulk',\n",
    "       'BwdAvgPackets/Bulk', 'BwdAvgBulkRate', 'SubflowFwdPackets',\n",
    "       'SubflowFwdBytes', 'SubflowBwdPackets', 'SubflowBwdBytes',\n",
    "       'Init_Win_bytes_forward', 'Init_Win_bytes_backward', 'act_data_pkt_fwd',\n",
    "       'min_seg_size_forward', 'ActiveMean', 'ActiveStd', 'ActiveMax',\n",
    "       'ActiveMin', 'IdleMean', 'IdleStd', 'IdleMax', 'IdleMin']]"
   ]
  },
  {
   "cell_type": "code",
   "execution_count": null,
   "metadata": {},
   "outputs": [],
   "source": [
    "ben = df[df.Label == 'BENIGN']\n",
    "dos_h = df[df.Label == 'DoS Hulk']\n",
    "p_scan = df[df.Label == 'PortScan']\n",
    "ddos = df[df.Label == 'DDoS']\n",
    "dos_ge = df[df.Label == 'DoS GoldenEye']\n",
    "ftp_pat = df[df.Label == 'FTP-Patator']\n",
    "ssh_pat = df[df.Label == 'SSH-Patator']\n",
    "dos_slowloris = df[df.Label == 'DoS slowloris']\n",
    "dos_slowhttp = df[df.Label == 'DoS Slowhttptest']"
   ]
  },
  {
   "cell_type": "code",
   "execution_count": null,
   "metadata": {},
   "outputs": [],
   "source": [
    "# olist = list(ben.columns) # original list\n",
    "# yvlist = list(['Label']) # y variable list\n",
    "\n",
    "# # make a new list of only the values I want to compare\n",
    "# xlist = [x for x in olist if x not in yvlist]\n",
    "\n",
    "# fig = plt.figure(figsize=(20, 25))\n",
    "# plotNum = 1\n",
    "# for key in xlist:\n",
    "#     ax = plt.subplot(6, 3, plotNum)\n",
    "#     ax.scatter(x=ben[key], y=ben['Label'])\n",
    "#     ax.set_xlabel(key)\n",
    "#     ax.set_ylabel('Label')\n",
    "#     plotNum = plotNum + 1"
   ]
  },
  {
   "cell_type": "code",
   "execution_count": null,
   "metadata": {},
   "outputs": [],
   "source": [
    "# # Making a correlation map\n",
    "# corr = ben.corr()\n",
    "# plt.figure(figsize=(79, 79))\n",
    "# heatMap = sns.heatmap(\n",
    "#     corr,\n",
    "#     vmin = -1, vmax = 1, center = 0,\n",
    "#     annot=True,\n",
    "#     cmap=sns.diverging_palette(20, 220, n=200),\n",
    "#     square=True\n",
    "# )"
   ]
  },
  {
   "cell_type": "code",
   "execution_count": null,
   "metadata": {},
   "outputs": [],
   "source": [
    "# ben.dtypes"
   ]
  },
  {
   "cell_type": "code",
   "execution_count": null,
   "metadata": {},
   "outputs": [],
   "source": [
    "ben"
   ]
  },
  {
   "cell_type": "code",
   "execution_count": null,
   "metadata": {},
   "outputs": [],
   "source": [
    "del df1\n",
    "del df2\n",
    "del df3\n",
    "del df4\n",
    "del df5\n",
    "del df6\n",
    "del df7\n",
    "del df8"
   ]
  },
  {
   "cell_type": "code",
   "execution_count": null,
   "metadata": {},
   "outputs": [],
   "source": []
  },
  {
   "cell_type": "code",
   "execution_count": null,
   "metadata": {},
   "outputs": [],
   "source": []
  }
 ],
 "metadata": {
  "kernelspec": {
   "display_name": "Python 3",
   "language": "python",
   "name": "python3"
  },
  "language_info": {
   "codemirror_mode": {
    "name": "ipython",
    "version": 3
   },
   "file_extension": ".py",
   "mimetype": "text/x-python",
   "name": "python",
   "nbconvert_exporter": "python",
   "pygments_lexer": "ipython3",
   "version": "3.7.4"
  }
 },
 "nbformat": 4,
 "nbformat_minor": 2
}
