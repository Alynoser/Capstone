{
 "cells": [
  {
   "cell_type": "code",
   "execution_count": null,
   "metadata": {},
   "outputs": [],
   "source": [
    "import pandas as pd\n",
    "import numpy as np\n",
    "import matplotlib\n",
    "import matplotlib.pyplot as plt\n",
    "import seaborn as sns\n",
    "# %matplotlib inline\n",
    "import sklearn\n",
    "from sklearn import datasets, linear_model, model_selection\n",
    "from sklearn.model_selection import train_test_split\n",
    "from sklearn.tree import DecisionTreeClassifier\n",
    "from sklearn.linear_model import Ridge, Lasso\n",
    "from sklearn.model_selection import cross_val_score\n",
    "from sklearn.model_selection import cross_validate\n",
    "from sklearn.metrics import recall_score\n",
    "import os\n",
    "import time\n",
    "from sklearn.naive_bayes import GaussianNB\n",
    "pd.options.display.max_rows = 10\n",
    "pd.options.display.max_columns = 79"
   ]
  },
  {
   "cell_type": "code",
   "execution_count": null,
   "metadata": {},
   "outputs": [],
   "source": [
    "ps_lr = pd.read_csv(temp + \"\\\\finalportscanlr.csv\", low_memory = False)\n",
    "ps_bayes = pd.read_csv(temp + \"\\\\final-portscan-bayes.csv\", low_memory = False)\n",
    "\n",
    "ddos_lr = pd.read_csv(temp + \"\\\\finalddoslr.csv\", low_memory = False)\n",
    "ddos_bayes = pd.read_csv(temp + \"\\\\finalddosnaivebayes.csv\", low_memory = False)\n",
    "\n",
    "ps_label = pd.read_csv(temp + \"\\\\PortScanLabel.csv\", low_memory = False)\n",
    "ddos_label = pd.read_csv(temp + \"\\\\DDOSLabel.csv\", low_memory = False)"
   ]
  },
  {
   "cell_type": "code",
   "execution_count": null,
   "metadata": {},
   "outputs": [],
   "source": [
    "ps_ls['Label'] = ps_label\n",
    "ps_bayes['Label'] = ps_label\n",
    "\n",
    "ddos_lr['Label'] = ddos_label\n",
    "ddos_"
   ]
  },
  {
   "cell_type": "code",
   "execution_count": null,
   "metadata": {},
   "outputs": [],
   "source": []
  },
  {
   "cell_type": "code",
   "execution_count": null,
   "metadata": {},
   "outputs": [],
   "source": []
  }
 ],
 "metadata": {
  "kernelspec": {
   "display_name": "Python 3",
   "language": "python",
   "name": "python3"
  },
  "language_info": {
   "codemirror_mode": {
    "name": "ipython",
    "version": 3
   },
   "file_extension": ".py",
   "mimetype": "text/x-python",
   "name": "python",
   "nbconvert_exporter": "python",
   "pygments_lexer": "ipython3",
   "version": "3.7.4"
  }
 },
 "nbformat": 4,
 "nbformat_minor": 2
}
